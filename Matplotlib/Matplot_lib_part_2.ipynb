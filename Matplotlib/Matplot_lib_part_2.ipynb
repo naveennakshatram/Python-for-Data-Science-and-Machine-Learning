{
 "cells": [
  {
   "cell_type": "code",
   "execution_count": 1,
   "id": "001957d7-f61b-47a7-925c-4ef14b8ac64f",
   "metadata": {},
   "outputs": [],
   "source": [
    "import matplotlib."
   ]
  },
  {
   "cell_type": "code",
   "execution_count": null,
   "id": "c357ea08-ebe5-4653-9aee-5f106aeba4b6",
   "metadata": {},
   "outputs": [],
   "source": []
  }
 ],
 "metadata": {
  "kernelspec": {
   "display_name": "Python 3 (ipykernel)",
   "language": "python",
   "name": "python3"
  },
  "language_info": {
   "codemirror_mode": {
    "name": "ipython",
    "version": 3
   },
   "file_extension": ".py",
   "mimetype": "text/x-python",
   "name": "python",
   "nbconvert_exporter": "python",
   "pygments_lexer": "ipython3",
   "version": "3.12.6"
  }
 },
 "nbformat": 4,
 "nbformat_minor": 5
}
