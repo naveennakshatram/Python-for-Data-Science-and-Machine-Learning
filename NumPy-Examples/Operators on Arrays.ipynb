{
 "cells": [
  {
   "cell_type": "markdown",
   "metadata": {},
   "source": [
    "# Operators on Arrays"
   ]
  },
  {
   "cell_type": "markdown",
   "metadata": {},
   "source": [
    "| Operator | Meaning                  | Example    | Result  |\n",
    "| -------- | ------------------------ | ---------- | ------- |\n",
    "| `>`      | Greater than             | `5 > 3`    | `True`  |\n",
    "| `<`      | Less than                | `2 < 7`    | `True`  |\n",
    "| `>=`     | Greater than or equal to | `4 >= 4`   | `True`  |\n",
    "| `<=`     | Less than or equal to    | `6 <= 3`   | `False` |\n",
    "| `==`     | Equal to                 | `10 == 10` | `True`  |\n",
    "| `!=`     | Not equal to             | `5 != 3`   | `True`  |\n"
   ]
  },
  {
   "cell_type": "code",
   "execution_count": 2,
   "metadata": {},
   "outputs": [
    {
     "data": {
      "text/plain": [
       "array([ 1,  2,  3,  4,  5,  6,  7,  8,  9, 10])"
      ]
     },
     "execution_count": 2,
     "metadata": {},
     "output_type": "execute_result"
    }
   ],
   "source": [
    "# 1Dim array\n",
    "\n",
    "import numpy as np\n",
    "\n",
    "one_d_array = np.arange(1,11)\n",
    "\n",
    "one_d_array"
   ]
  },
  {
   "cell_type": "code",
   "execution_count": 5,
   "metadata": {},
   "outputs": [
    {
     "data": {
      "text/plain": [
       "array([False, False, False, False, False,  True,  True,  True,  True,\n",
       "        True])"
      ]
     },
     "execution_count": 5,
     "metadata": {},
     "output_type": "execute_result"
    }
   ],
   "source": [
    "# make a new array where the numbers are > 5\n",
    "\n",
    "one_d_array > 5 \n",
    "\n",
    "# This will return a list of boolean values like below. if the number is > 5 it returns true else false.\n"
   ]
  },
  {
   "cell_type": "code",
   "execution_count": 8,
   "metadata": {},
   "outputs": [
    {
     "data": {
      "text/plain": [
       "array([False, False, False, False, False,  True,  True,  True,  True,\n",
       "        True])"
      ]
     },
     "execution_count": 8,
     "metadata": {},
     "output_type": "execute_result"
    }
   ],
   "source": [
    "# assigning the result to a variable\n",
    "\n",
    "bool_array = one_d_array > 5\n",
    "\n",
    "bool_array"
   ]
  },
  {
   "cell_type": "code",
   "execution_count": 11,
   "metadata": {},
   "outputs": [
    {
     "data": {
      "text/plain": [
       "array([ 6,  7,  8,  9, 10])"
      ]
     },
     "execution_count": 11,
     "metadata": {},
     "output_type": "execute_result"
    }
   ],
   "source": [
    "one_d_array[bool_array]\n",
    "\n",
    "# this will display only numbers which are > 5\n"
   ]
  },
  {
   "cell_type": "markdown",
   "metadata": {},
   "source": [
    "## Example "
   ]
  },
  {
   "cell_type": "code",
   "execution_count": 19,
   "metadata": {},
   "outputs": [
    {
     "data": {
      "text/plain": [
       "array([[  1,   2,   3,   4,   5,   6,   7,   8,   9,  10],\n",
       "       [ 11,  12,  13,  14,  15,  16,  17,  18,  19,  20],\n",
       "       [ 21,  22,  23,  24,  25,  26,  27,  28,  29,  30],\n",
       "       [ 31,  32,  33,  34,  35,  36,  37,  38,  39,  40],\n",
       "       [ 41,  42,  43,  44,  45,  46,  47,  48,  49,  50],\n",
       "       [ 51,  52,  53,  54,  55,  56,  57,  58,  59,  60],\n",
       "       [ 61,  62,  63,  64,  65,  66,  67,  68,  69,  70],\n",
       "       [ 71,  72,  73,  74,  75,  76,  77,  78,  79,  80],\n",
       "       [ 81,  82,  83,  84,  85,  86,  87,  88,  89,  90],\n",
       "       [ 91,  92,  93,  94,  95,  96,  97,  98,  99, 100]])"
      ]
     },
     "execution_count": 19,
     "metadata": {},
     "output_type": "execute_result"
    }
   ],
   "source": [
    "big_array = np.arange(1,101).reshape(10,10)\n",
    "\n",
    "big_array"
   ]
  },
  {
   "cell_type": "code",
   "execution_count": 25,
   "metadata": {},
   "outputs": [
    {
     "data": {
      "text/plain": [
       "array([[  3,   4,   5,   6,   7,   8,   9,  10,  11,  12],\n",
       "       [ 13,  14,  15,  16,  17,  18,  19,  20,  21,  22],\n",
       "       [ 23,  24,  25,  26,  27,  28,  29,  30,  31,  32],\n",
       "       [ 33,  34,  35,  36,  37,  38,  39,  40,  41,  42],\n",
       "       [ 43,  44,  45,  46,  47,  48,  49,  50,  51,  52],\n",
       "       [ 53,  54,  55,  56,  57,  58,  59,  60,  61,  62],\n",
       "       [ 63,  64,  65,  66,  67,  68,  69,  70,  71,  72],\n",
       "       [ 73,  74,  75,  76,  77,  78,  79,  80,  81,  82],\n",
       "       [ 83,  84,  85,  86,  87,  88,  89,  90,  91,  92],\n",
       "       [ 93,  94,  95,  96,  97,  98,  99, 100, 101, 102]])"
      ]
     },
     "execution_count": 25,
     "metadata": {},
     "output_type": "execute_result"
    }
   ],
   "source": [
    "# add,sub,mul,div\n",
    "\n",
    "big_array+2 "
   ]
  },
  {
   "cell_type": "code",
   "execution_count": 26,
   "metadata": {},
   "outputs": [
    {
     "data": {
      "text/plain": [
       "array([[-1,  0,  1,  2,  3,  4,  5,  6,  7,  8],\n",
       "       [ 9, 10, 11, 12, 13, 14, 15, 16, 17, 18],\n",
       "       [19, 20, 21, 22, 23, 24, 25, 26, 27, 28],\n",
       "       [29, 30, 31, 32, 33, 34, 35, 36, 37, 38],\n",
       "       [39, 40, 41, 42, 43, 44, 45, 46, 47, 48],\n",
       "       [49, 50, 51, 52, 53, 54, 55, 56, 57, 58],\n",
       "       [59, 60, 61, 62, 63, 64, 65, 66, 67, 68],\n",
       "       [69, 70, 71, 72, 73, 74, 75, 76, 77, 78],\n",
       "       [79, 80, 81, 82, 83, 84, 85, 86, 87, 88],\n",
       "       [89, 90, 91, 92, 93, 94, 95, 96, 97, 98]])"
      ]
     },
     "execution_count": 26,
     "metadata": {},
     "output_type": "execute_result"
    }
   ],
   "source": [
    "big_array-2"
   ]
  },
  {
   "cell_type": "code",
   "execution_count": 27,
   "metadata": {},
   "outputs": [
    {
     "data": {
      "text/plain": [
       "array([[  2,   4,   6,   8,  10,  12,  14,  16,  18,  20],\n",
       "       [ 22,  24,  26,  28,  30,  32,  34,  36,  38,  40],\n",
       "       [ 42,  44,  46,  48,  50,  52,  54,  56,  58,  60],\n",
       "       [ 62,  64,  66,  68,  70,  72,  74,  76,  78,  80],\n",
       "       [ 82,  84,  86,  88,  90,  92,  94,  96,  98, 100],\n",
       "       [102, 104, 106, 108, 110, 112, 114, 116, 118, 120],\n",
       "       [122, 124, 126, 128, 130, 132, 134, 136, 138, 140],\n",
       "       [142, 144, 146, 148, 150, 152, 154, 156, 158, 160],\n",
       "       [162, 164, 166, 168, 170, 172, 174, 176, 178, 180],\n",
       "       [182, 184, 186, 188, 190, 192, 194, 196, 198, 200]])"
      ]
     },
     "execution_count": 27,
     "metadata": {},
     "output_type": "execute_result"
    }
   ],
   "source": [
    "big_array*2"
   ]
  },
  {
   "cell_type": "code",
   "execution_count": 28,
   "metadata": {},
   "outputs": [
    {
     "data": {
      "text/plain": [
       "array([[ 0.5,  1. ,  1.5,  2. ,  2.5,  3. ,  3.5,  4. ,  4.5,  5. ],\n",
       "       [ 5.5,  6. ,  6.5,  7. ,  7.5,  8. ,  8.5,  9. ,  9.5, 10. ],\n",
       "       [10.5, 11. , 11.5, 12. , 12.5, 13. , 13.5, 14. , 14.5, 15. ],\n",
       "       [15.5, 16. , 16.5, 17. , 17.5, 18. , 18.5, 19. , 19.5, 20. ],\n",
       "       [20.5, 21. , 21.5, 22. , 22.5, 23. , 23.5, 24. , 24.5, 25. ],\n",
       "       [25.5, 26. , 26.5, 27. , 27.5, 28. , 28.5, 29. , 29.5, 30. ],\n",
       "       [30.5, 31. , 31.5, 32. , 32.5, 33. , 33.5, 34. , 34.5, 35. ],\n",
       "       [35.5, 36. , 36.5, 37. , 37.5, 38. , 38.5, 39. , 39.5, 40. ],\n",
       "       [40.5, 41. , 41.5, 42. , 42.5, 43. , 43.5, 44. , 44.5, 45. ],\n",
       "       [45.5, 46. , 46.5, 47. , 47.5, 48. , 48.5, 49. , 49.5, 50. ]])"
      ]
     },
     "execution_count": 28,
     "metadata": {},
     "output_type": "execute_result"
    }
   ],
   "source": [
    "big_array/2"
   ]
  },
  {
   "cell_type": "code",
   "execution_count": 29,
   "metadata": {},
   "outputs": [
    {
     "data": {
      "text/plain": [
       "array([[ 0,  1,  1,  2,  2,  3,  3,  4,  4,  5],\n",
       "       [ 5,  6,  6,  7,  7,  8,  8,  9,  9, 10],\n",
       "       [10, 11, 11, 12, 12, 13, 13, 14, 14, 15],\n",
       "       [15, 16, 16, 17, 17, 18, 18, 19, 19, 20],\n",
       "       [20, 21, 21, 22, 22, 23, 23, 24, 24, 25],\n",
       "       [25, 26, 26, 27, 27, 28, 28, 29, 29, 30],\n",
       "       [30, 31, 31, 32, 32, 33, 33, 34, 34, 35],\n",
       "       [35, 36, 36, 37, 37, 38, 38, 39, 39, 40],\n",
       "       [40, 41, 41, 42, 42, 43, 43, 44, 44, 45],\n",
       "       [45, 46, 46, 47, 47, 48, 48, 49, 49, 50]])"
      ]
     },
     "execution_count": 29,
     "metadata": {},
     "output_type": "execute_result"
    }
   ],
   "source": [
    "big_array//2"
   ]
  },
  {
   "cell_type": "code",
   "execution_count": 30,
   "metadata": {},
   "outputs": [
    {
     "data": {
      "text/plain": [
       "array([[1, 0, 1, 0, 1, 0, 1, 0, 1, 0],\n",
       "       [1, 0, 1, 0, 1, 0, 1, 0, 1, 0],\n",
       "       [1, 0, 1, 0, 1, 0, 1, 0, 1, 0],\n",
       "       [1, 0, 1, 0, 1, 0, 1, 0, 1, 0],\n",
       "       [1, 0, 1, 0, 1, 0, 1, 0, 1, 0],\n",
       "       [1, 0, 1, 0, 1, 0, 1, 0, 1, 0],\n",
       "       [1, 0, 1, 0, 1, 0, 1, 0, 1, 0],\n",
       "       [1, 0, 1, 0, 1, 0, 1, 0, 1, 0],\n",
       "       [1, 0, 1, 0, 1, 0, 1, 0, 1, 0],\n",
       "       [1, 0, 1, 0, 1, 0, 1, 0, 1, 0]])"
      ]
     },
     "execution_count": 30,
     "metadata": {},
     "output_type": "execute_result"
    }
   ],
   "source": [
    "big_array%2"
   ]
  },
  {
   "cell_type": "code",
   "execution_count": 31,
   "metadata": {},
   "outputs": [
    {
     "data": {
      "text/plain": [
       "array([[False,  True, False,  True, False,  True, False,  True, False,\n",
       "         True],\n",
       "       [False,  True, False,  True, False,  True, False,  True, False,\n",
       "         True],\n",
       "       [False,  True, False,  True, False,  True, False,  True, False,\n",
       "         True],\n",
       "       [False,  True, False,  True, False,  True, False,  True, False,\n",
       "         True],\n",
       "       [False,  True, False,  True, False,  True, False,  True, False,\n",
       "         True],\n",
       "       [False,  True, False,  True, False,  True, False,  True, False,\n",
       "         True],\n",
       "       [False,  True, False,  True, False,  True, False,  True, False,\n",
       "         True],\n",
       "       [False,  True, False,  True, False,  True, False,  True, False,\n",
       "         True],\n",
       "       [False,  True, False,  True, False,  True, False,  True, False,\n",
       "         True],\n",
       "       [False,  True, False,  True, False,  True, False,  True, False,\n",
       "         True]])"
      ]
     },
     "execution_count": 31,
     "metadata": {},
     "output_type": "execute_result"
    }
   ],
   "source": [
    "(big_array%2) == 0"
   ]
  },
  {
   "cell_type": "code",
   "execution_count": 32,
   "metadata": {},
   "outputs": [
    {
     "data": {
      "text/plain": [
       "array([  2,   4,   6,   8,  10,  12,  14,  16,  18,  20,  22,  24,  26,\n",
       "        28,  30,  32,  34,  36,  38,  40,  42,  44,  46,  48,  50,  52,\n",
       "        54,  56,  58,  60,  62,  64,  66,  68,  70,  72,  74,  76,  78,\n",
       "        80,  82,  84,  86,  88,  90,  92,  94,  96,  98, 100])"
      ]
     },
     "execution_count": 32,
     "metadata": {},
     "output_type": "execute_result"
    }
   ],
   "source": [
    "# Even numbers\n",
    "big_array[(big_array%2) == 0 ]"
   ]
  },
  {
   "cell_type": "code",
   "execution_count": 33,
   "metadata": {},
   "outputs": [
    {
     "data": {
      "text/plain": [
       "array([ 1,  3,  5,  7,  9, 11, 13, 15, 17, 19, 21, 23, 25, 27, 29, 31, 33,\n",
       "       35, 37, 39, 41, 43, 45, 47, 49, 51, 53, 55, 57, 59, 61, 63, 65, 67,\n",
       "       69, 71, 73, 75, 77, 79, 81, 83, 85, 87, 89, 91, 93, 95, 97, 99])"
      ]
     },
     "execution_count": 33,
     "metadata": {},
     "output_type": "execute_result"
    }
   ],
   "source": [
    "# Odd numbers\n",
    "big_array[(big_array%2) != 0]"
   ]
  },
  {
   "cell_type": "code",
   "execution_count": null,
   "metadata": {},
   "outputs": [],
   "source": []
  }
 ],
 "metadata": {
  "kernelspec": {
   "display_name": "Python 3",
   "language": "python",
   "name": "python3"
  },
  "language_info": {
   "codemirror_mode": {
    "name": "ipython",
    "version": 3
   },
   "file_extension": ".py",
   "mimetype": "text/x-python",
   "name": "python",
   "nbconvert_exporter": "python",
   "pygments_lexer": "ipython3",
   "version": "3.9.1"
  }
 },
 "nbformat": 4,
 "nbformat_minor": 4
}
