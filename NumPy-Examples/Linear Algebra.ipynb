{
 "cells": [
  {
   "cell_type": "markdown",
   "metadata": {},
   "source": [
    "# Linear Algebra"
   ]
  },
  {
   "cell_type": "markdown",
   "metadata": {},
   "source": [
    "✅ What is Linear Algebra?\n",
    "\n",
    "Linear algebra is the branch of mathematics that deals with:\n",
    "\n",
    "1. Vectors\n",
    "\n",
    "2. Matrices\n",
    "\n",
    "3. Linear transformations\n",
    "\n",
    "4. Systems of linear equations\n",
    "\n",
    "📌 It is the foundation of machine learning, computer graphics, engineering, and data science."
   ]
  },
  {
   "cell_type": "markdown",
   "metadata": {},
   "source": [
    "## 🧱 1. Scalars, Vectors, Matrices, Tensors\n",
    "\n",
    "| Term   | Definition                           | Example                      |\n",
    "| ------ | ------------------------------------ | ---------------------------- |\n",
    "| Scalar | A single number                      | `5`, `-3.2`                  |\n",
    "| Vector | A list of numbers (1D array)         | `[2, 3, -1]`                 |\n",
    "| Matrix | A grid of numbers (2D array)         | `[[1, 2], [3, 4]]`           |\n",
    "| Tensor | Multi-dimensional array (3D or more) | e.g., image data `[3x28x28]` |\n"
   ]
  },
  {
   "cell_type": "markdown",
   "metadata": {},
   "source": [
    "# Example's \n",
    "## Scalars"
   ]
  },
  {
   "cell_type": "code",
   "execution_count": 3,
   "metadata": {},
   "outputs": [
    {
     "name": "stdout",
     "output_type": "stream",
     "text": [
      "Employee Age is 23\n",
      "Employee Salary is 10000.0\n",
      "Employee Idno is NPW88456\n"
     ]
    }
   ],
   "source": [
    "\n",
    "# Scalar means a single number\n",
    "\n",
    "age = 23\n",
    "\n",
    "salary = 10000.00\n",
    "\n",
    "idno = 'NPW88456'\n",
    "\n",
    "print(f\"Employee Age is {age}\")\n",
    "\n",
    "print(f\"Employee Salary is {salary}\")\n",
    "\n",
    "print(f\"Employee Idno is {idno}\")"
   ]
  },
  {
   "cell_type": "markdown",
   "metadata": {},
   "source": [
    "## Vectors"
   ]
  },
  {
   "cell_type": "code",
   "execution_count": 4,
   "metadata": {},
   "outputs": [
    {
     "name": "stdout",
     "output_type": "stream",
     "text": [
      "[101, 102, 103, 104, 105]\n"
     ]
    }
   ],
   "source": [
    "# Vectors are 1Dim arrays.\n",
    "\n",
    "# a list of employee id's\n",
    "\n",
    "idnos = [101,102,103,104,105]\n",
    "\n",
    "print(idnos)"
   ]
  },
  {
   "cell_type": "code",
   "execution_count": 6,
   "metadata": {},
   "outputs": [
    {
     "data": {
      "text/plain": [
       "array([101, 102, 103, 104, 105])"
      ]
     },
     "execution_count": 6,
     "metadata": {},
     "output_type": "execute_result"
    }
   ],
   "source": [
    "# Vectors using Numpy\n",
    "\n",
    "# Converting python list into Numpy 1D array\n",
    "\n",
    "import numpy as np\n",
    "\n",
    "np.array(idnos)\n"
   ]
  },
  {
   "cell_type": "code",
   "execution_count": 8,
   "metadata": {},
   "outputs": [
    {
     "data": {
      "text/plain": [
       "array([101, 102, 103, 104, 105])"
      ]
     },
     "execution_count": 8,
     "metadata": {},
     "output_type": "execute_result"
    }
   ],
   "source": [
    "# we can assing it to a variable\n",
    "\n",
    "numpy_idnos = np.array(idnos)\n",
    "\n",
    "numpy_idnos"
   ]
  },
  {
   "cell_type": "code",
   "execution_count": 10,
   "metadata": {},
   "outputs": [
    {
     "data": {
      "text/plain": [
       "array([ 1,  2,  3,  4,  5,  6,  7,  8,  9, 10])"
      ]
     },
     "execution_count": 10,
     "metadata": {},
     "output_type": "execute_result"
    }
   ],
   "source": [
    "# We can use numpy built in functions to create 1Dim array\n",
    "\n",
    "one_d_array = np.arange(1,11)\n",
    "\n",
    "one_d_array"
   ]
  },
  {
   "cell_type": "markdown",
   "metadata": {},
   "source": [
    "## Matrices"
   ]
  },
  {
   "cell_type": "code",
   "execution_count": 12,
   "metadata": {},
   "outputs": [
    {
     "data": {
      "text/plain": [
       "[[101, 10000.0], [102, 12000.0], [103, 11000.0]]"
      ]
     },
     "execution_count": 12,
     "metadata": {},
     "output_type": "execute_result"
    }
   ],
   "source": [
    "# Matrices are 2Dim Arrays.\n",
    "\n",
    "# List of employee details in python.\n",
    "\n",
    "employee_details = [\n",
    "    [101,10000.00],\n",
    "    [102,12000.00],\n",
    "    [103,11000.00]\n",
    "]\n",
    "\n",
    "employee_details"
   ]
  },
  {
   "cell_type": "code",
   "execution_count": 17,
   "metadata": {},
   "outputs": [
    {
     "name": "stdout",
     "output_type": "stream",
     "text": [
      "[[  101. 10000.]\n",
      " [  102. 12000.]\n",
      " [  103. 11000.]]\n",
      "(3, 2)\n"
     ]
    }
   ],
   "source": [
    "# Converting List into numpy array's\n",
    "\n",
    "two_d_array = np.array(employee_details)\n",
    "\n",
    "print(two_d_array)\n",
    "\n",
    "print(two_d_array.shape)"
   ]
  },
  {
   "cell_type": "markdown",
   "metadata": {},
   "source": [
    "## Tensor"
   ]
  },
  {
   "cell_type": "code",
   "execution_count": 18,
   "metadata": {},
   "outputs": [
    {
     "name": "stdout",
     "output_type": "stream",
     "text": [
      "\n",
      "3D Tensor:\n",
      " [[[ 1  2]\n",
      "  [ 3  4]\n",
      "  [ 5  6]]\n",
      "\n",
      " [[ 9 10]\n",
      "  [ 7  8]\n",
      "  [11 12]]]\n",
      "Shape: (2, 3, 2)\n"
     ]
    }
   ],
   "source": [
    "tensor_3d = np.array([\n",
    "    [\n",
    "        [1, 2], \n",
    "        [3, 4],\n",
    "        [5, 6]\n",
    "    ],\n",
    "    [\n",
    "        [9, 10], \n",
    "        [7, 8],\n",
    "        [11, 12]\n",
    "    ]\n",
    "])\n",
    "print(\"\\n3D Tensor:\\n\", tensor_3d)\n",
    "print(\"Shape:\", tensor_3d.shape)"
   ]
  },
  {
   "cell_type": "markdown",
   "metadata": {},
   "source": [
    "# What is Linear transformations ?"
   ]
  },
  {
   "cell_type": "markdown",
   "metadata": {},
   "source": [
    "A linear transformation is a math rule that:\n",
    "\n",
    "1. Stretches\n",
    "\n",
    "2. Shrinks\n",
    "\n",
    "3. Rotates\n",
    "\n",
    "4. Flips\n",
    "\n",
    "It keeps lines straight and the center fixed.\n",
    "\n",
    "And it's done using a matrix × vector like this:\n",
    "\n",
    "### new_vector = matrix × old_vector"
   ]
  },
  {
   "cell_type": "markdown",
   "metadata": {},
   "source": [
    "## 🧱 In Numbers (Simple 2D Example)\n",
    "\n",
    "Let’s say you have a point:\n",
    "\n",
    "x = [2, 3]\n",
    "\n",
    "Now you apply this transformation (multiply each number by 2):\n",
    "\n",
    "\n",
    "x becomes → [4, 6]\n",
    "\n",
    "So the point is moved further away from the center (origin). \n",
    "\n",
    "This is a scaling linear transformation."
   ]
  },
  {
   "cell_type": "markdown",
   "metadata": {},
   "source": [
    "## 🖼 Think of It Like a Photo Filter\n",
    "\n",
    "Imagine you have a photo full of arrows.\n",
    "\n",
    "A linear transformation is like putting a filter over it that:\n",
    "\n",
    "Stretches, rotates, or flips all the arrows.\n",
    "\n",
    "But doesn’t break the shape of lines or curves.\n",
    "\n",
    "And always keeps the origin (0,0) in the same place"
   ]
  },
  {
   "cell_type": "markdown",
   "metadata": {},
   "source": [
    "## 💡 Important: It Must Follow 2 Simple Rules\n",
    "\n",
    "1. Adding arrows then transforming should be same as transforming then adding (lines stay straight)\n",
    "\n",
    "2. Doubling an arrow before transformation = doubling the transformed arrow (scaling works the same)"
   ]
  },
  {
   "cell_type": "markdown",
   "metadata": {},
   "source": [
    "## 🧪 Real World Example\n",
    "\n",
    "You're designing a game.\n",
    "\n",
    "You have a spaceship flying at [1, 2] speed.\n",
    "\n",
    "Now you want a \"boost\" button that doubles speed.\n",
    "\n",
    "That’s a linear transformation:\n",
    "\n",
    "[1, 2] → [2, 4]\n",
    "\n",
    "You just scaled the motion — same direction, just faster. 🚀"
   ]
  },
  {
   "cell_type": "markdown",
   "metadata": {},
   "source": [
    "![Alt Text](images/Scaling.jpg)  "
   ]
  },
  {
   "cell_type": "markdown",
   "metadata": {},
   "source": [
    "### Here's a visual example of linear transformations:\n",
    "\n",
    "Left: Scaling by 2 — stretches all vectors away from the origin.\n",
    "\n",
    "Middle: Rotating by 90° — turns the vectors counter-clockwise.\n",
    "\n",
    "Right: Reflection over the x-axis — flips the vectors vertically.\n",
    "\n",
    "Blue arrows = original vectors\n",
    "\n",
    "Red arrows = transformed vectors\n",
    "\n",
    "This shows how matrices reshape space by transforming all vectors consistently — the core idea of linear transformation."
   ]
  },
  {
   "cell_type": "markdown",
   "metadata": {},
   "source": [
    "## Examples\n",
    "\n",
    "### 🔷 1. Stretches (e.g. Stretch along x-axis)\n",
    "\n",
    "Stretch a vector by 3x along x-axis (y stays same):"
   ]
  },
  {
   "cell_type": "code",
   "execution_count": 25,
   "metadata": {},
   "outputs": [
    {
     "name": "stdout",
     "output_type": "stream",
     "text": [
      "Stretched:\n",
      " [[6]\n",
      " [1]]\n"
     ]
    }
   ],
   "source": [
    "import numpy as np\n",
    "\n",
    "v = np.array([[2],\n",
    "              [1]])\n",
    "\n",
    "# Stretching matrix (stretch x by 3)\n",
    "T = np.array([[3, 0],\n",
    "              [0, 1]])\n",
    "\n",
    "v_stretched = np.dot(T, v)\n",
    "\n",
    "print(\"Stretched:\\n\", v_stretched)\n"
   ]
  },
  {
   "cell_type": "markdown",
   "metadata": {},
   "source": [
    "### 🔷 2. Shrinks (e.g. Shrink along y-axis)\n",
    "\n",
    "Shrink vector by 0.5x on y-axis (x stays same):"
   ]
  },
  {
   "cell_type": "code",
   "execution_count": 26,
   "metadata": {},
   "outputs": [
    {
     "name": "stdout",
     "output_type": "stream",
     "text": [
      "Shrunk:\n",
      " [[2.]\n",
      " [2.]]\n"
     ]
    }
   ],
   "source": [
    "v = np.array([[2],\n",
    "              [4]])\n",
    "\n",
    "# Shrinking matrix (shrink y by 0.5)\n",
    "T = np.array([[1, 0],\n",
    "              [0, 0.5]])\n",
    "\n",
    "v_shrunk = np.dot(T, v)\n",
    "\n",
    "print(\"Shrunk:\\n\", v_shrunk)\n"
   ]
  },
  {
   "cell_type": "markdown",
   "metadata": {},
   "source": [
    "### 🔷 3. Rotates (90° counterclockwise)\n",
    "\n",
    "Rotate a vector by 90° counterclockwise:\n",
    "\n",
    "Counter-clockwise (also written as anticlockwise) means rotating in the opposite direction of a clock’s hands."
   ]
  },
  {
   "cell_type": "code",
   "execution_count": 27,
   "metadata": {},
   "outputs": [
    {
     "name": "stdout",
     "output_type": "stream",
     "text": [
      "Rotated:\n",
      " [[0]\n",
      " [1]]\n"
     ]
    }
   ],
   "source": [
    "v = np.array([[1],\n",
    "              [0]])\n",
    "\n",
    "# Rotation matrix (90 degrees CCW)\n",
    "T = np.array([[0, -1],\n",
    "              [1,  0]])\n",
    "\n",
    "v_rotated = np.dot(T, v)\n",
    "\n",
    "print(\"Rotated:\\n\", v_rotated)\n"
   ]
  },
  {
   "cell_type": "markdown",
   "metadata": {},
   "source": [
    "### 🔷 4. Flips (reflect across x-axis)\n",
    "\n",
    "Flip (reflect) a vector over the x-axis:"
   ]
  },
  {
   "cell_type": "code",
   "execution_count": 28,
   "metadata": {},
   "outputs": [
    {
     "name": "stdout",
     "output_type": "stream",
     "text": [
      "Flipped:\n",
      " [[ 3]\n",
      " [-2]]\n"
     ]
    }
   ],
   "source": [
    "v = np.array([[3],\n",
    "              [2]])\n",
    "\n",
    "# Reflection matrix across x-axis\n",
    "T = np.array([[1,  0],\n",
    "              [0, -1]])\n",
    "\n",
    "v_flipped = np.dot(T, v)\n",
    "\n",
    "print(\"Flipped:\\n\", v_flipped)\n"
   ]
  },
  {
   "cell_type": "markdown",
   "metadata": {},
   "source": [
    "### Summary \n",
    "\n",
    "| Transformation | Matrix               | Effect            |\n",
    "| -------------- | -------------------- | ----------------- |\n",
    "| Stretch        | `[[3, 0], [0, 1]]`   | Stretch x, keep y |\n",
    "| Shrink         | `[[1, 0], [0, 0.5]]` | Shrink y, keep x  |\n",
    "| Rotate (90°)   | `[[0, -1], [1, 0]]`  | Rotate left (CCW) |\n",
    "| Flip (x-axis)  | `[[1, 0], [0, -1]]`  | Flip vertically   |\n"
   ]
  },
  {
   "cell_type": "markdown",
   "metadata": {},
   "source": [
    "# What is a Linear Equation?\n",
    "\n",
    "A linear equation is like:\n",
    "\n",
    "### something × x + something = something\n",
    "## or\n",
    "### Some number times x, plus or minus something, equals a number.\n",
    "\n",
    "It helps us find unknown values.\n",
    "\n",
    "\n",
    "### 2x + 3 = 7\n",
    "\n",
    "This is a linear equation. Why?\n",
    "\n",
    "1. It has x (a variable).\n",
    "\n",
    "2. No powers (no x² or x³).\n",
    "\n",
    "3. Just simple addition and multiplication.\n",
    "\n",
    "### 💡 Goal: Find the value of x\n",
    "\n",
    "Solve step-by-step:\n",
    "\n",
    "1. Start with: 2x + 3 = 7\n",
    "\n",
    "2. Subtract 3 from both sides:  2x = 4\n",
    "\n",
    "3. Divide both sides by 2:  x = 2\n",
    "\n",
    "🎉 So, x = 2 is the answer!\n",
    "\n",
    "\n",
    "### 🧠 Why do we subtract 3?\n",
    "\n",
    "In 2x + 3 = 7, the + 3 is added to 2x.\n",
    "\n",
    "To remove it, we do the opposite, which is subtract 3.\n",
    "\n",
    "👉 We subtract 3 from both sides of the =.\n",
    "\n",
    "### ✏️ Like this:\n",
    "\n",
    "#####  2x + 3  =  7         ← original equation\n",
    "#####         -3    -3       ← subtract 3 from both sides\n",
    "##### ------------------\n",
    "#####         2x  =   4\n",
    "\n",
    "\n",
    "Now it’s much simpler! Just divide both sides by 2 to find x:\n",
    "\n",
    "x = 4 ÷ 2\n",
    "\n",
    "x = 2"
   ]
  },
  {
   "cell_type": "markdown",
   "metadata": {},
   "source": [
    "### Real life Examples\n",
    "\n",
    "\n",
    "#### 💼 1. Shopping Example\n",
    "\n",
    "You buy pens for £2 each. You also pay £1 delivery.\n",
    "\n",
    "👉 How much do you pay if you buy x pens? when you spend £11?\n",
    "\n",
    "Linear Equation:  Total = 2x + 1\n",
    "\n",
    "If you spend £11:  2x + 1 = 11\n",
    "\n",
    "Solve:  \n",
    "\n",
    "2x = 10   (subtract 1 from both sides)\n",
    "\n",
    "x = 5     (divide by 2)\n",
    "\n",
    "✅ You bought 5 pens\n",
    "\n",
    "\n",
    "\n",
    "#### 🚌 2. Bus Fare Example\n",
    "\n",
    "A bus charges £3 to start and £2 for every mile you travel.\n",
    "\n",
    "👉 How much is the total cost if you travel x miles? when you spend £11 ?\n",
    "\n",
    "Linear Equation:  Cost = 2x + 3\n",
    "\n",
    "If your cost was £11:  2x + 3 = 11\n",
    "\n",
    "Solve:\n",
    "\n",
    "2x = 8  (subtract 3 from both sides)\n",
    "\n",
    "x = 4 miles   (divide by 2)\n",
    "\n",
    "✅ You traveled 4 miles\n",
    "\n",
    "\n",
    "\n",
    "#### 🏠 5. Electricity Bill Example\n",
    "\n",
    "Fixed charge: £15\n",
    "Usage charge: £5 per unit\n",
    "You paid £40. \n",
    "👉 How many units did you use?\n",
    "\n",
    "Equation:   5x + 15 = 40\n",
    "\n",
    "5x = 25\n",
    "\n",
    "x = 5\n",
    "\n",
    "✅ You used 5 units"
   ]
  },
  {
   "cell_type": "markdown",
   "metadata": {},
   "source": [
    "# ✅ What is a System of Linear Equations?\n",
    "\n",
    "### 💬 Simple definition:\n",
    "\n",
    "A System of Linear Equations is two or more \"linear equations\" working together.\n",
    "\n",
    "👉 They share the same variables (like x and y), and we want to find values that satisfy all equations at the same time.\n",
    "\n",
    "📌 Example:\n",
    "\n",
    "Let’s take two equations:\n",
    "\n",
    "1) 2x + 3y = 13  \n",
    "\n",
    "2) 4x + 9y = 37\n",
    "\n",
    "This is called a system because:   There are two equations\n",
    "\n",
    "We want to find values of x and y that work in both\n",
    "\n",
    "🧠 Goal:  Find the values of x and y that make both equations true."
   ]
  },
  {
   "cell_type": "markdown",
   "metadata": {},
   "source": [
    "### 🧮 Let's solve it using NumPy\n",
    "\n",
    "#### Step-by-step:\n",
    "    \n",
    "Write the left sides (coefficients) as a matrix A:\n",
    "\n",
    "A = [[2, 3],\n",
    "     [4, 9]]\n",
    "\n",
    "Write the right side as a vector B:\n",
    "\n",
    "B = [13, 37]\n",
    "\n",
    "Use np.linalg.solve(A, B) to get the values of x and y."
   ]
  },
  {
   "cell_type": "code",
   "execution_count": 30,
   "metadata": {},
   "outputs": [
    {
     "name": "stdout",
     "output_type": "stream",
     "text": [
      "x and y: [1.         3.66666667]\n"
     ]
    }
   ],
   "source": [
    "import numpy as np\n",
    "\n",
    "A = np.array([[2, 3],\n",
    "              [4, 9]])\n",
    "\n",
    "B = np.array([13, 37])\n",
    "\n",
    "solution = np.linalg.solve(A, B)\n",
    "\n",
    "print(\"x and y:\", solution)"
   ]
  },
  {
   "cell_type": "markdown",
   "metadata": {},
   "source": [
    "### What is np.linalg.solve(A, B)?\n",
    "\n",
    "It’s a function used to solve a system of linear equations.\n",
    "\n",
    "If you have a system like this:\n",
    "\n",
    "#### 𝐴  ×  𝑥 = 𝐵\n",
    "\n",
    "A is a matrix of coefficients (numbers in front of variables)\n",
    "\n",
    "𝑥 is a vector of unknown variables you want to find\n",
    "\n",
    "𝐵 is a vector of constants (numbers on the right side)\n",
    "\n",
    "np.linalg.solve(A, B) finds the values of x that satisfy the equation."
   ]
  },
  {
   "cell_type": "markdown",
   "metadata": {},
   "source": [
    "## 🎯 Real-Life Example: \n",
    "\n",
    "### Shopping\n",
    "    \n",
    "You go to a shop and buy:\n",
    "\n",
    "2 pens and 5 pencils for £40\n",
    "\n",
    "4 pens and 5 pencils for £90\n",
    "\n",
    "Find the cost of 1 pen and 1 pencil."
   ]
  },
  {
   "cell_type": "code",
   "execution_count": 36,
   "metadata": {},
   "outputs": [
    {
     "name": "stdout",
     "output_type": "stream",
     "text": [
      "Pen and Pencil: [25. -2.]\n"
     ]
    }
   ],
   "source": [
    "# 2x + 5y = 40\n",
    "# 4x + 5y = 90\n",
    "\n",
    "A = np.array([[2,5],\n",
    "             [4,5]])\n",
    "\n",
    "B = np.array([40,90])\n",
    "\n",
    "pen_pencil = np.linalg.solve(A,B)\n",
    "\n",
    "print(\"Pen and Pencil:\", pen_pencil)"
   ]
  },
  {
   "cell_type": "markdown",
   "metadata": {},
   "source": [
    "So:\n",
    "\n",
    "1 pen costs £25\n",
    "\n",
    "1 pencil costs £2"
   ]
  },
  {
   "cell_type": "markdown",
   "metadata": {},
   "source": [
    "### Question\n",
    "\n",
    "You buy \n",
    "\n",
    "3 notebooks and 2 pens for £16, and\n",
    "5 notebooks and 4 pens for £34.\n",
    "\n",
    "know the price of one notebook (n) and the price of one pen (p),"
   ]
  },
  {
   "cell_type": "code",
   "execution_count": 44,
   "metadata": {},
   "outputs": [
    {
     "name": "stdout",
     "output_type": "stream",
     "text": [
      "Notebook and Pren = [-2. 11.]\n",
      "Notebook = £-2.00\n",
      "Pen = £11.00\n"
     ]
    }
   ],
   "source": [
    "# 3x + 2y = 16\n",
    "# 5x + 4y = 34\n",
    "\n",
    "\n",
    "A = np.array([\n",
    "        [3,2],\n",
    "        [5,4]\n",
    "    ])\n",
    "\n",
    "B = np.array([16,34])\n",
    "\n",
    "notebook_pen = np.linalg.solve(A,B)\n",
    "\n",
    "print(f\"Notebook and Pren = {notebook_pen}\")\n",
    "\n",
    "print(f\"Notebook = £{notebook_pen[0]:.2f}\")\n",
    "\n",
    "print(f\"Pen = £{notebook_pen[1]:.2f}\")\n"
   ]
  },
  {
   "cell_type": "markdown",
   "metadata": {},
   "source": [
    "### Question:\n",
    "At your café:\n",
    "\n",
    "2 ☕coffee cups + 3 🥪sandwiches + 1 🧁muffin cost = £25\n",
    "\n",
    "1 ☕coffee cup + 2 🥪sandwiches + 4 🧁muffins cost = £23\n",
    "\n",
    "3 ☕coffee cups + 1 🥪sandwich + 2 🧁muffins cost = £30\n",
    "\n",
    "Find the price of one coffee cup, one sandwich, and one muffin.\n"
   ]
  },
  {
   "cell_type": "code",
   "execution_count": 52,
   "metadata": {},
   "outputs": [
    {
     "name": "stdout",
     "output_type": "stream",
     "text": [
      "Coffe Price 7.40\n",
      "Sandwich Price 2.52\n",
      "Muffin Proce 2.64\n"
     ]
    }
   ],
   "source": [
    "# 2c + 3s + 1m = 25\n",
    "# 1c + 2s + 4m = 23\n",
    "# 3c + 1s + 2m = 30\n",
    "\n",
    "A = np.array([\n",
    "        [2,3,1],\n",
    "        [1,2,4],\n",
    "        [3,1,2]\n",
    "    ])\n",
    "\n",
    "B = np.array([25,23,30])\n",
    "\n",
    "coffe_sand_muffin = np.linalg.solve(A,B)\n",
    "\n",
    "print(f\"Coffe Price {coffe_sand_muffin[0]:.2f}\")\n",
    "\n",
    "print(f\"Sandwich Price {coffe_sand_muffin[1]:.2f}\")\n",
    "\n",
    "print(f\"Muffin Proce {coffe_sand_muffin[2]:.2f}\")\n",
    "      \n",
    "      "
   ]
  }
 ],
 "metadata": {
  "kernelspec": {
   "display_name": "Python 3",
   "language": "python",
   "name": "python3"
  },
  "language_info": {
   "codemirror_mode": {
    "name": "ipython",
    "version": 3
   },
   "file_extension": ".py",
   "mimetype": "text/x-python",
   "name": "python",
   "nbconvert_exporter": "python",
   "pygments_lexer": "ipython3",
   "version": "3.9.1"
  }
 },
 "nbformat": 4,
 "nbformat_minor": 4
}
