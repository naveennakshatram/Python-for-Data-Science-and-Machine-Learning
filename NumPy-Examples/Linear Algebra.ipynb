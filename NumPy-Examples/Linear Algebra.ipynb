{
 "cells": [
  {
   "cell_type": "markdown",
   "metadata": {},
   "source": [
    "# Linear Algebra"
   ]
  },
  {
   "cell_type": "markdown",
   "metadata": {},
   "source": [
    "✅ What is Linear Algebra?\n",
    "\n",
    "Linear algebra is the branch of mathematics that deals with:\n",
    "\n",
    "1. Vectors\n",
    "\n",
    "2. Matrices\n",
    "\n",
    "3. Linear transformations\n",
    "\n",
    "4. Systems of linear equations\n",
    "\n",
    "📌 It is the foundation of machine learning, computer graphics, engineering, and data science."
   ]
  },
  {
   "cell_type": "markdown",
   "metadata": {},
   "source": [
    "## 🧱 1. Scalars, Vectors, Matrices, Tensors\n",
    "\n",
    "| Term   | Definition                           | Example                      |\n",
    "| ------ | ------------------------------------ | ---------------------------- |\n",
    "| Scalar | A single number                      | `5`, `-3.2`                  |\n",
    "| Vector | A list of numbers (1D array)         | `[2, 3, -1]`                 |\n",
    "| Matrix | A grid of numbers (2D array)         | `[[1, 2], [3, 4]]`           |\n",
    "| Tensor | Multi-dimensional array (3D or more) | e.g., image data `[3x28x28]` |\n"
   ]
  },
  {
   "cell_type": "markdown",
   "metadata": {},
   "source": [
    "1. Scalars, Vectors, and Matrices\n",
    "\n",
    "Create and print scalars, vectors, and matrices with NumPy\n",
    "\n",
    "2. Vector Operations\n",
    "\n",
    "Addition, subtraction, scalar multiplication, Dot product example\n",
    "\n",
    "3. Matrix Operations\n",
    "\n",
    "Matrix addition, scalar multiplication, matrix multiplication, Identity matrix and transpose\n",
    "\n",
    "4. Determinant and Inverse\n",
    "\n",
    "Calculate determinant and inverse using NumPy\n",
    "\n",
    "5. Practice Questions\n",
    "\n",
    "Vector addition\n",
    "\n",
    "Matrix multiplication\n",
    "\n",
    "Find the inverse of a matrix\n",
    "\n",
    "Calculate determinant"
   ]
  },
  {
   "cell_type": "markdown",
   "metadata": {},
   "source": [
    "## Example's \n",
    "## Scalars"
   ]
  },
  {
   "cell_type": "code",
   "execution_count": 3,
   "metadata": {},
   "outputs": [
    {
     "name": "stdout",
     "output_type": "stream",
     "text": [
      "Employee Age is 23\n",
      "Employee Salary is 10000.0\n",
      "Employee Idno is NPW88456\n"
     ]
    }
   ],
   "source": [
    "\n",
    "# Scalar means a single number\n",
    "\n",
    "age = 23\n",
    "\n",
    "salary = 10000.00\n",
    "\n",
    "idno = 'NPW88456'\n",
    "\n",
    "print(f\"Employee Age is {age}\")\n",
    "\n",
    "print(f\"Employee Salary is {salary}\")\n",
    "\n",
    "print(f\"Employee Idno is {idno}\")"
   ]
  },
  {
   "cell_type": "markdown",
   "metadata": {},
   "source": [
    "## Vectors"
   ]
  },
  {
   "cell_type": "code",
   "execution_count": 4,
   "metadata": {},
   "outputs": [
    {
     "name": "stdout",
     "output_type": "stream",
     "text": [
      "[101, 102, 103, 104, 105]\n"
     ]
    }
   ],
   "source": [
    "# Vectors are 1Dim arrays.\n",
    "\n",
    "# a list of employee id's\n",
    "\n",
    "idnos = [101,102,103,104,105]\n",
    "\n",
    "print(idnos)"
   ]
  },
  {
   "cell_type": "code",
   "execution_count": 6,
   "metadata": {},
   "outputs": [
    {
     "data": {
      "text/plain": [
       "array([101, 102, 103, 104, 105])"
      ]
     },
     "execution_count": 6,
     "metadata": {},
     "output_type": "execute_result"
    }
   ],
   "source": [
    "# Vectors using Numpy\n",
    "\n",
    "# Converting python list into Numpy 1D array\n",
    "\n",
    "import numpy as np\n",
    "\n",
    "np.array(idnos)\n"
   ]
  },
  {
   "cell_type": "code",
   "execution_count": 8,
   "metadata": {},
   "outputs": [
    {
     "data": {
      "text/plain": [
       "array([101, 102, 103, 104, 105])"
      ]
     },
     "execution_count": 8,
     "metadata": {},
     "output_type": "execute_result"
    }
   ],
   "source": [
    "# we can assing it to a variable\n",
    "\n",
    "numpy_idnos = np.array(idnos)\n",
    "\n",
    "numpy_idnos"
   ]
  },
  {
   "cell_type": "code",
   "execution_count": 10,
   "metadata": {},
   "outputs": [
    {
     "data": {
      "text/plain": [
       "array([ 1,  2,  3,  4,  5,  6,  7,  8,  9, 10])"
      ]
     },
     "execution_count": 10,
     "metadata": {},
     "output_type": "execute_result"
    }
   ],
   "source": [
    "# We can use numpy built in functions to create 1Dim array\n",
    "\n",
    "one_d_array = np.arange(1,11)\n",
    "\n",
    "one_d_array"
   ]
  },
  {
   "cell_type": "markdown",
   "metadata": {},
   "source": [
    "## Matrices"
   ]
  },
  {
   "cell_type": "code",
   "execution_count": 12,
   "metadata": {},
   "outputs": [
    {
     "data": {
      "text/plain": [
       "[[101, 10000.0], [102, 12000.0], [103, 11000.0]]"
      ]
     },
     "execution_count": 12,
     "metadata": {},
     "output_type": "execute_result"
    }
   ],
   "source": [
    "# Matrices are 2Dim Arrays.\n",
    "\n",
    "# List of employee details in python.\n",
    "\n",
    "employee_details = [\n",
    "    [101,10000.00],\n",
    "    [102,12000.00],\n",
    "    [103,11000.00]\n",
    "]\n",
    "\n",
    "employee_details"
   ]
  },
  {
   "cell_type": "code",
   "execution_count": 14,
   "metadata": {},
   "outputs": [
    {
     "data": {
      "text/plain": [
       "array([[  101., 10000.],\n",
       "       [  102., 12000.],\n",
       "       [  103., 11000.]])"
      ]
     },
     "execution_count": 14,
     "metadata": {},
     "output_type": "execute_result"
    }
   ],
   "source": [
    "# Converting List into numpy array's\n",
    "\n",
    "two_d_array = np.array(employee_details)\n",
    "\n",
    "two_d_array"
   ]
  },
  {
   "cell_type": "code",
   "execution_count": null,
   "metadata": {},
   "outputs": [],
   "source": []
  }
 ],
 "metadata": {
  "kernelspec": {
   "display_name": "Python 3",
   "language": "python",
   "name": "python3"
  },
  "language_info": {
   "codemirror_mode": {
    "name": "ipython",
    "version": 3
   },
   "file_extension": ".py",
   "mimetype": "text/x-python",
   "name": "python",
   "nbconvert_exporter": "python",
   "pygments_lexer": "ipython3",
   "version": "3.9.1"
  }
 },
 "nbformat": 4,
 "nbformat_minor": 4
}
