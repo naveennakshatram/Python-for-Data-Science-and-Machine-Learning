{
 "cells": [
  {
   "cell_type": "code",
   "execution_count": 7,
   "metadata": {},
   "outputs": [
    {
     "name": "stdout",
     "output_type": "stream",
     "text": [
      "[1, 2, 3, 4, 5]\n"
     ]
    }
   ],
   "source": [
    "# Python 1D-List\n",
    "\n",
    "l1 = [1,2,3,4,5]\n",
    "\n",
    "print(l1)"
   ]
  },
  {
   "cell_type": "code",
   "execution_count": 8,
   "metadata": {},
   "outputs": [
    {
     "data": {
      "text/plain": [
       "array([1, 2, 3, 4, 5])"
      ]
     },
     "execution_count": 8,
     "metadata": {},
     "output_type": "execute_result"
    }
   ],
   "source": [
    "# casting python list to numpy 1D array\n",
    "\n",
    "import numpy as np\n",
    "\n",
    "np.array(l1) \n"
   ]
  },
  {
   "cell_type": "code",
   "execution_count": 9,
   "metadata": {},
   "outputs": [
    {
     "name": "stdout",
     "output_type": "stream",
     "text": [
      "[[1, 2, 3], [4, 5, 6], [7, 8, 9]]\n"
     ]
    }
   ],
   "source": [
    "# python 2D-List (list in a list)\n",
    "\n",
    "l2 = [[1,2,3],[4,5,6],[7,8,9]]\n",
    "\n",
    "print(l2)\n"
   ]
  },
  {
   "cell_type": "code",
   "execution_count": 10,
   "metadata": {},
   "outputs": [
    {
     "data": {
      "text/plain": [
       "array([[1, 2, 3],\n",
       "       [4, 5, 6],\n",
       "       [7, 8, 9]])"
      ]
     },
     "execution_count": 10,
     "metadata": {},
     "output_type": "execute_result"
    }
   ],
   "source": [
    "# casting python 2d list to numpy 2D array\n",
    "\n",
    "np.array(l2)"
   ]
  },
  {
   "cell_type": "markdown",
   "metadata": {},
   "source": [
    "Note : In NumPy, a 1D array represents a vector, while a 2D array represents a matrix."
   ]
  },
  {
   "cell_type": "code",
   "execution_count": 15,
   "metadata": {},
   "outputs": [
    {
     "data": {
      "text/plain": [
       "array([0, 1, 2, 3, 4, 5, 6, 7, 8, 9])"
      ]
     },
     "execution_count": 15,
     "metadata": {},
     "output_type": "execute_result"
    }
   ],
   "source": [
    "np.arange(0,10) # 0 is starting and 10 is ending \n",
    "\n",
    "# This function will create an 1D array on given start and end numbers \n",
    "# Since the number is starting from 0 it is ending at 9\n"
   ]
  },
  {
   "cell_type": "code",
   "execution_count": 18,
   "metadata": {},
   "outputs": [
    {
     "data": {
      "text/plain": [
       "array([ 5,  6,  7,  8,  9, 10, 11, 12, 13, 14])"
      ]
     },
     "execution_count": 18,
     "metadata": {},
     "output_type": "execute_result"
    }
   ],
   "source": [
    "np.arange(5,15)\n",
    "\n",
    "# Since the number is starting from 5 ending at 14"
   ]
  },
  {
   "cell_type": "code",
   "execution_count": 22,
   "metadata": {},
   "outputs": [
    {
     "data": {
      "text/plain": [
       "array([ 5,  7,  9, 11, 13])"
      ]
     },
     "execution_count": 22,
     "metadata": {},
     "output_type": "execute_result"
    }
   ],
   "source": [
    "np.arange(5,15,2) # 2 is step\n",
    "\n",
    "# since the step is 2 the array will skip 2 number -- 5,7,9,11..."
   ]
  },
  {
   "cell_type": "code",
   "execution_count": 29,
   "metadata": {},
   "outputs": [
    {
     "data": {
      "text/plain": [
       "array([0., 0., 0., 0., 0., 0., 0., 0., 0., 0.])"
      ]
     },
     "execution_count": 29,
     "metadata": {},
     "output_type": "execute_result"
    }
   ],
   "source": [
    "# we can use built in functions for arrays in numpy \n",
    "\n",
    "# zeros(), ones()\n",
    "\n",
    "np.zeros(10)"
   ]
  },
  {
   "cell_type": "code",
   "execution_count": 30,
   "metadata": {},
   "outputs": [
    {
     "data": {
      "text/plain": [
       "array([1., 1., 1., 1., 1., 1., 1., 1., 1., 1., 1., 1., 1., 1., 1., 1., 1.,\n",
       "       1., 1., 1., 1., 1., 1., 1., 1., 1., 1., 1., 1., 1., 1., 1., 1., 1.,\n",
       "       1., 1., 1., 1., 1., 1., 1., 1., 1., 1., 1., 1., 1., 1., 1., 1.])"
      ]
     },
     "execution_count": 30,
     "metadata": {},
     "output_type": "execute_result"
    }
   ],
   "source": [
    "np.ones(50)"
   ]
  },
  {
   "cell_type": "code",
   "execution_count": 33,
   "metadata": {},
   "outputs": [
    {
     "data": {
      "text/plain": [
       "array([ 5.        ,  5.51020408,  6.02040816,  6.53061224,  7.04081633,\n",
       "        7.55102041,  8.06122449,  8.57142857,  9.08163265,  9.59183673,\n",
       "       10.10204082, 10.6122449 , 11.12244898, 11.63265306, 12.14285714,\n",
       "       12.65306122, 13.16326531, 13.67346939, 14.18367347, 14.69387755,\n",
       "       15.20408163, 15.71428571, 16.2244898 , 16.73469388, 17.24489796,\n",
       "       17.75510204, 18.26530612, 18.7755102 , 19.28571429, 19.79591837,\n",
       "       20.30612245, 20.81632653, 21.32653061, 21.83673469, 22.34693878,\n",
       "       22.85714286, 23.36734694, 23.87755102, 24.3877551 , 24.89795918,\n",
       "       25.40816327, 25.91836735, 26.42857143, 26.93877551, 27.44897959,\n",
       "       27.95918367, 28.46938776, 28.97959184, 29.48979592, 30.        ])"
      ]
     },
     "execution_count": 33,
     "metadata": {},
     "output_type": "execute_result"
    }
   ],
   "source": [
    "np.linspace(5,30)  # 5 is staring and 50 is ending\n",
    "\n",
    "# It creates a sequence of evenly spaced numbers over a specified interval.\n",
    "\n",
    "# start: The starting value of the sequence\n",
    "\n",
    "# stop: The end value of the sequence\n",
    "\n",
    "# num: (Optional) Number of points to generate (default is 50)"
   ]
  },
  {
   "cell_type": "code",
   "execution_count": 35,
   "metadata": {},
   "outputs": [
    {
     "data": {
      "text/plain": [
       "array([ 5.        ,  5.25252525,  5.50505051,  5.75757576,  6.01010101,\n",
       "        6.26262626,  6.51515152,  6.76767677,  7.02020202,  7.27272727,\n",
       "        7.52525253,  7.77777778,  8.03030303,  8.28282828,  8.53535354,\n",
       "        8.78787879,  9.04040404,  9.29292929,  9.54545455,  9.7979798 ,\n",
       "       10.05050505, 10.3030303 , 10.55555556, 10.80808081, 11.06060606,\n",
       "       11.31313131, 11.56565657, 11.81818182, 12.07070707, 12.32323232,\n",
       "       12.57575758, 12.82828283, 13.08080808, 13.33333333, 13.58585859,\n",
       "       13.83838384, 14.09090909, 14.34343434, 14.5959596 , 14.84848485,\n",
       "       15.1010101 , 15.35353535, 15.60606061, 15.85858586, 16.11111111,\n",
       "       16.36363636, 16.61616162, 16.86868687, 17.12121212, 17.37373737,\n",
       "       17.62626263, 17.87878788, 18.13131313, 18.38383838, 18.63636364,\n",
       "       18.88888889, 19.14141414, 19.39393939, 19.64646465, 19.8989899 ,\n",
       "       20.15151515, 20.4040404 , 20.65656566, 20.90909091, 21.16161616,\n",
       "       21.41414141, 21.66666667, 21.91919192, 22.17171717, 22.42424242,\n",
       "       22.67676768, 22.92929293, 23.18181818, 23.43434343, 23.68686869,\n",
       "       23.93939394, 24.19191919, 24.44444444, 24.6969697 , 24.94949495,\n",
       "       25.2020202 , 25.45454545, 25.70707071, 25.95959596, 26.21212121,\n",
       "       26.46464646, 26.71717172, 26.96969697, 27.22222222, 27.47474747,\n",
       "       27.72727273, 27.97979798, 28.23232323, 28.48484848, 28.73737374,\n",
       "       28.98989899, 29.24242424, 29.49494949, 29.74747475, 30.        ])"
      ]
     },
     "execution_count": 35,
     "metadata": {},
     "output_type": "execute_result"
    }
   ],
   "source": [
    "np.linspace(5,30,100)"
   ]
  },
  {
   "cell_type": "code",
   "execution_count": 40,
   "metadata": {},
   "outputs": [
    {
     "data": {
      "text/plain": [
       "array([[1., 0., 0.],\n",
       "       [0., 1., 0.],\n",
       "       [0., 0., 1.]])"
      ]
     },
     "execution_count": 40,
     "metadata": {},
     "output_type": "execute_result"
    }
   ],
   "source": [
    "# identity matrix\n",
    "# An identity matrix is a square matrix with 1s on the diagonal and 0s elsewhere.\n",
    "\n",
    "np.identity(3)\n"
   ]
  },
  {
   "cell_type": "code",
   "execution_count": null,
   "metadata": {},
   "outputs": [],
   "source": []
  },
  {
   "cell_type": "code",
   "execution_count": 42,
   "metadata": {},
   "outputs": [
    {
     "data": {
      "text/plain": [
       "array([[0., 1., 0.],\n",
       "       [0., 0., 1.],\n",
       "       [0., 0., 0.]])"
      ]
     },
     "execution_count": 42,
     "metadata": {},
     "output_type": "execute_result"
    }
   ],
   "source": [
    "np.eye(3, 3, k=1)"
   ]
  },
  {
   "cell_type": "markdown",
   "metadata": {},
   "source": [
    "Both np.eye() and np.identity() in NumPy create identity-like matrices, but they have slight differences in flexibility.\n",
    "\n",
    "✅ np.identity(n)\n",
    "\n",
    "Creates a square identity matrix of size n x n\n",
    "\n",
    "Only supports square matrices\n",
    "\n",
    "Diagonal always starts from the top-left\n",
    "\n",
    "array([[1., 0., 0.],\n",
    "       [0., 1., 0.],\n",
    "       [0., 0., 1.]])\n",
    "       \n",
    "\n",
    "\n",
    "✅ np.eye(N, M=None, k=1)\n",
    "\n",
    "More flexible\n",
    "\n",
    "Can create non-square matrices\n",
    "\n",
    "k controls the diagonal\n",
    "\n",
    "array([[0., 1., 0.],\n",
    "       [0., 0., 1.],\n",
    "       [0., 0., 0.]])"
   ]
  },
  {
   "cell_type": "markdown",
   "metadata": {},
   "source": [
    "## Examples on Random"
   ]
  },
  {
   "cell_type": "code",
   "execution_count": 52,
   "metadata": {},
   "outputs": [
    {
     "data": {
      "text/plain": [
       "array([0.81829323, 0.28045526, 0.21246944, 0.18312605, 0.93846343])"
      ]
     },
     "execution_count": 52,
     "metadata": {},
     "output_type": "execute_result"
    }
   ],
   "source": [
    "import numpy as np\n",
    "\n",
    "np.random.rand(5) # this will print 5 random num array"
   ]
  },
  {
   "cell_type": "code",
   "execution_count": 54,
   "metadata": {},
   "outputs": [
    {
     "data": {
      "text/plain": [
       "array([0.81509474, 0.06407042, 0.1356833 , 0.74506137, 0.48764145,\n",
       "       0.84131938, 0.00271418, 0.96667649, 0.56971391, 0.14602895])"
      ]
     },
     "execution_count": 54,
     "metadata": {},
     "output_type": "execute_result"
    }
   ],
   "source": [
    "# or\n",
    "\n",
    "from numpy import random as ran\n",
    "\n",
    "ran.rand(10) # 1D Array"
   ]
  },
  {
   "cell_type": "code",
   "execution_count": 55,
   "metadata": {},
   "outputs": [
    {
     "data": {
      "text/plain": [
       "array([[0.68571594, 0.92084273, 0.19617484, 0.02450239, 0.5789261 ],\n",
       "       [0.05967076, 0.02418758, 0.07054157, 0.08467137, 0.84653867],\n",
       "       [0.32178375, 0.69993913, 0.6983664 , 0.50408862, 0.37960565],\n",
       "       [0.72281299, 0.14632747, 0.45506317, 0.17090039, 0.84938866],\n",
       "       [0.97211961, 0.34791828, 0.26281328, 0.93195089, 0.59037685]])"
      ]
     },
     "execution_count": 55,
     "metadata": {},
     "output_type": "execute_result"
    }
   ],
   "source": [
    "ran.rand(5,5) # 2D Array"
   ]
  },
  {
   "cell_type": "code",
   "execution_count": 58,
   "metadata": {},
   "outputs": [
    {
     "data": {
      "text/plain": [
       "15"
      ]
     },
     "execution_count": 58,
     "metadata": {},
     "output_type": "execute_result"
    }
   ],
   "source": [
    "ran.randint(50) # will return 1 random number"
   ]
  },
  {
   "cell_type": "code",
   "execution_count": 75,
   "metadata": {},
   "outputs": [
    {
     "data": {
      "text/plain": [
       "97"
      ]
     },
     "execution_count": 75,
     "metadata": {},
     "output_type": "execute_result"
    }
   ],
   "source": [
    "ran.randint(5,100) # this also return 1 random number but b/w 5 and 99 only."
   ]
  },
  {
   "cell_type": "code",
   "execution_count": 79,
   "metadata": {},
   "outputs": [
    {
     "data": {
      "text/plain": [
       "array([59, 80, 35, 28,  7, 46, 83, 36, 74, 22, 85, 28, 92, 44, 77])"
      ]
     },
     "execution_count": 79,
     "metadata": {},
     "output_type": "execute_result"
    }
   ],
   "source": [
    "ran.randint(5,100,15) # this will retun an 1D array of random numbers\n",
    "\n",
    "# 5 is start\n",
    "# 100 is end\n",
    "# 15 is size"
   ]
  },
  {
   "cell_type": "code",
   "execution_count": 83,
   "metadata": {},
   "outputs": [
    {
     "data": {
      "text/plain": [
       "array([60,  5, 58, 84,  7, 49, 79, 95, 15, 28, 64, 64, 27, 34, 21, 76, 42,\n",
       "       72, 55, 18, 66, 82, 25, 72, 61])"
      ]
     },
     "execution_count": 83,
     "metadata": {},
     "output_type": "execute_result"
    }
   ],
   "source": [
    "one_d_arr = ran.randint(5,100,25)  # assiging array ro 'one_d_arr' variable\n",
    "one_d_arr   # printing the response"
   ]
  },
  {
   "cell_type": "code",
   "execution_count": 85,
   "metadata": {},
   "outputs": [
    {
     "data": {
      "text/plain": [
       "array([[60,  5, 58, 84,  7],\n",
       "       [49, 79, 95, 15, 28],\n",
       "       [64, 64, 27, 34, 21],\n",
       "       [76, 42, 72, 55, 18],\n",
       "       [66, 82, 25, 72, 61]])"
      ]
     },
     "execution_count": 85,
     "metadata": {},
     "output_type": "execute_result"
    }
   ],
   "source": [
    "one_d_arr.reshape(5,5)  \n",
    "\n",
    "# re shaping the array into 5*5 Dim"
   ]
  },
  {
   "cell_type": "code",
   "execution_count": 88,
   "metadata": {},
   "outputs": [
    {
     "data": {
      "text/plain": [
       "95"
      ]
     },
     "execution_count": 88,
     "metadata": {},
     "output_type": "execute_result"
    }
   ],
   "source": [
    "## finding the max and min values\n",
    "\n",
    "one_d_arr.max()"
   ]
  },
  {
   "cell_type": "code",
   "execution_count": 87,
   "metadata": {},
   "outputs": [
    {
     "data": {
      "text/plain": [
       "5"
      ]
     },
     "execution_count": 87,
     "metadata": {},
     "output_type": "execute_result"
    }
   ],
   "source": [
    "one_d_arr.min()"
   ]
  },
  {
   "cell_type": "code",
   "execution_count": null,
   "metadata": {},
   "outputs": [
    {
     "data": {
      "text/plain": [
       "7"
      ]
     },
     "execution_count": 89,
     "metadata": {},
     "output_type": "execute_result"
    }
   ],
   "source": [
    "## finding the index position of max and min numbers \n",
    "\n",
    "one_d_arr.argmax()\n"
   ]
  },
  {
   "cell_type": "code",
   "execution_count": 90,
   "metadata": {},
   "outputs": [
    {
     "data": {
      "text/plain": [
       "1"
      ]
     },
     "execution_count": 90,
     "metadata": {},
     "output_type": "execute_result"
    }
   ],
   "source": [
    "one_d_arr.argmin()"
   ]
  },
  {
   "cell_type": "code",
   "execution_count": null,
   "metadata": {},
   "outputs": [],
   "source": []
  }
 ],
 "metadata": {
  "kernelspec": {
   "display_name": "Python 3",
   "language": "python",
   "name": "python3"
  },
  "language_info": {
   "codemirror_mode": {
    "name": "ipython",
    "version": 3
   },
   "file_extension": ".py",
   "mimetype": "text/x-python",
   "name": "python",
   "nbconvert_exporter": "python",
   "pygments_lexer": "ipython3",
   "version": "3.9.1"
  }
 },
 "nbformat": 4,
 "nbformat_minor": 4
}
