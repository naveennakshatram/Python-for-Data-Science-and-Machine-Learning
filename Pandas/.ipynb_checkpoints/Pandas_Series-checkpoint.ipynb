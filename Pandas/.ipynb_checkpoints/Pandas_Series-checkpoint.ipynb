{
 "cells": [
  {
   "cell_type": "markdown",
   "id": "cfd949ca-9e6c-4f8a-bec9-9341c0d8a7ae",
   "metadata": {},
   "source": [
    "# Series"
   ]
  },
  {
   "cell_type": "markdown",
   "id": "55c4ecdd-a07d-4af4-8173-cf352e70e98f",
   "metadata": {},
   "source": [
    "## 1. What is a Pandas Series?\n",
    "\n",
    "        A Pandas Series is a one-dimensional labeled array capable of holding any data type such as integers, strings, floats, or even Python objects.\n",
    "        \n",
    "        It is similar to a list or a NumPy array but with an index (label) for each value."
   ]
  },
  {
   "cell_type": "code",
   "execution_count": 2,
   "id": "0de555cb-2869-46b5-8270-4b94c208af14",
   "metadata": {},
   "outputs": [
    {
     "data": {
      "text/plain": [
       "[10, 20, 30, 40, 50]"
      ]
     },
     "execution_count": 2,
     "metadata": {},
     "output_type": "execute_result"
    }
   ],
   "source": [
    "##  Python List\n",
    "\n",
    "l1 = [10,20,30,40,50]\n",
    "\n",
    "l1"
   ]
  },
  {
   "cell_type": "code",
   "execution_count": 5,
   "id": "8e6e361a-3b6b-42c8-a294-3413ac7e6308",
   "metadata": {},
   "outputs": [
    {
     "name": "stdout",
     "output_type": "stream",
     "text": [
      " Numpy Array : [100 200 300 400 500]\n",
      " Array : [10 20 30 40 50]\n"
     ]
    }
   ],
   "source": [
    "#  Numpy array\n",
    "\n",
    "import numpy as np\n",
    "\n",
    "array = np.array([100,200,300,400,500])\n",
    "\n",
    "print(f\" Numpy Array : {array}\")\n",
    "\n",
    "#  Converting Python List into Numpy Array\n",
    "\n",
    "arr = np.array(l1)\n",
    "\n",
    "print(f\" Array : {arr}\")\n"
   ]
  },
  {
   "cell_type": "markdown",
   "id": "a49c40ae-79b3-40ab-a406-49a65be2938e",
   "metadata": {},
   "source": [
    "###  Note :  Here Numpy array indeing will start from Zero.  and the indxing are numbers by default"
   ]
  },
  {
   "cell_type": "markdown",
   "id": "d0a4cb36-d432-422b-a15a-f95b8a7f7cd3",
   "metadata": {},
   "source": [
    "## Pandas Series"
   ]
  },
  {
   "cell_type": "code",
   "execution_count": 8,
   "id": "8c5d8eb3-71ef-4e22-98c3-76781accf403",
   "metadata": {},
   "outputs": [
    {
     "data": {
      "text/plain": [
       "0    101\n",
       "1    102\n",
       "2    103\n",
       "3    104\n",
       "4    105\n",
       "dtype: int64"
      ]
     },
     "execution_count": 8,
     "metadata": {},
     "output_type": "execute_result"
    }
   ],
   "source": [
    "import pandas as pa\n",
    "\n",
    "series = pa.Series([101,102,103,104,105])\n",
    "\n",
    "series"
   ]
  },
  {
   "cell_type": "markdown",
   "id": "86e8873f-7941-4376-b2d8-978940d0abc5",
   "metadata": {},
   "source": [
    "###  In above example the pandas series indexing is starting from Zero. By default it is numbers."
   ]
  },
  {
   "cell_type": "markdown",
   "id": "a6c1791c-3812-4bbd-b4d7-4b3a6bbe8e9c",
   "metadata": {},
   "source": [
    "##  Series Class \n",
    "\n",
    "####  This class constructor will take following params like\n",
    "####  pandas.Series(data=None, index=None, dtype=None, name=None, copy=None, fastpath=<no_default>)[source]\n",
    "\n",
    "\n",
    "\n",
    "### Custom Indeing example ( using employee idno as index )\n"
   ]
  },
  {
   "cell_type": "code",
   "execution_count": 9,
   "id": "5de31386-2d0e-4810-a114-5936fa8e5c6f",
   "metadata": {},
   "outputs": [
    {
     "data": {
      "text/plain": [
       "101       Ravi\n",
       "102    Krishan\n",
       "103      Kumar\n",
       "104      Mohan\n",
       "105     Naveen\n",
       "dtype: object"
      ]
     },
     "execution_count": 9,
     "metadata": {},
     "output_type": "execute_result"
    }
   ],
   "source": [
    "# Example program on passing idnos as index and names as data\n",
    "\n",
    "import pandas as pa\n",
    "\n",
    "employee_names = ['Ravi','Krishan','Kumar','Mohan','Naveen']\n",
    "\n",
    "employee_idno = [101,102,103,104,105]\n",
    "\n",
    "series = pa.Series(data=employee_names,index=employee_idno)\n",
    "\n",
    "series"
   ]
  },
  {
   "cell_type": "code",
   "execution_count": 10,
   "id": "14cf9720-08b0-4259-9627-6cedf8c18dbd",
   "metadata": {},
   "outputs": [
    {
     "data": {
      "text/plain": [
       "101       {'name': 'Ravi', 'salary': 125000.0}\n",
       "102      {'name': 'Kumar', 'salary': 135000.0}\n",
       "103      {'name': 'Mohan', 'salary': 150000.0}\n",
       "104    {'name': 'Krishna', 'salary': 105000.0}\n",
       "105     {'name': 'Prasad', 'salary': 100000.0}\n",
       "dtype: object"
      ]
     },
     "execution_count": 10,
     "metadata": {},
     "output_type": "execute_result"
    }
   ],
   "source": [
    "# Example program passing List of dictonary as a data to Series\n",
    "\n",
    "employee_info = [\n",
    "    { \"name\" : \"Ravi\",  \"salary\": 125000.00 },\n",
    "    { \"name\" : \"Kumar\",  \"salary\": 135000.00 },\n",
    "    { \"name\" : \"Mohan\",  \"salary\": 150000.00 },\n",
    "    { \"name\" : \"Krishna\",  \"salary\": 105000.00 },\n",
    "    { \"name\" : \"Prasad\",  \"salary\": 100000.00 },\n",
    "]\n",
    "\n",
    "employee_idno = [101,102,103,104,105]\n",
    "\n",
    "series = pa.Series(data=employee_info,index=employee_idno)\n",
    "\n",
    "series"
   ]
  },
  {
   "cell_type": "markdown",
   "id": "637ef868-2341-4ef8-80cf-59c46c8755d7",
   "metadata": {},
   "source": [
    "### Indexing on Pandas Series"
   ]
  },
  {
   "cell_type": "code",
   "execution_count": 14,
   "id": "210633df-6d73-46b2-8cc4-62de5e7f2672",
   "metadata": {},
   "outputs": [
    {
     "name": "stdout",
     "output_type": "stream",
     "text": [
      " 1st Employee Details {'name': 'Ravi', 'salary': 125000.0}\n",
      " 1st Employee Name Ravi\n",
      " 3rd Employee Salary 150000.0\n"
     ]
    }
   ],
   "source": [
    "print(f\" 1st Employee Details {series[101]}\") \n",
    "\n",
    "print(f\" 1st Employee Name {series[101]['name']}\") \n",
    "\n",
    "print(f\" 3rd Employee Salary {series[103]['salary']}\") "
   ]
  },
  {
   "cell_type": "markdown",
   "id": "84e49028-0d26-4f12-bca1-ef403b7505f7",
   "metadata": {},
   "source": [
    "## for loop on Pandas Series"
   ]
  },
  {
   "cell_type": "code",
   "execution_count": 16,
   "id": "86a0936b-5de4-4aeb-b432-14f551209298",
   "metadata": {},
   "outputs": [
    {
     "name": "stdout",
     "output_type": "stream",
     "text": [
      "{'name': 'Ravi', 'salary': 125000.0}\n",
      "{'name': 'Kumar', 'salary': 135000.0}\n",
      "{'name': 'Mohan', 'salary': 150000.0}\n",
      "{'name': 'Krishna', 'salary': 105000.0}\n",
      "{'name': 'Prasad', 'salary': 100000.0}\n"
     ]
    }
   ],
   "source": [
    "# for loop example - 1\n",
    "\n",
    "for employee in series:\n",
    "    print(employee)"
   ]
  },
  {
   "cell_type": "code",
   "execution_count": 20,
   "id": "96b2556e-f640-4f6b-bdbe-074ce6811dc7",
   "metadata": {},
   "outputs": [
    {
     "name": "stdout",
     "output_type": "stream",
     "text": [
      "name Ravi\n",
      "salary 125000.0\n",
      "name Kumar\n",
      "salary 135000.0\n",
      "name Mohan\n",
      "salary 150000.0\n",
      "name Krishna\n",
      "salary 105000.0\n",
      "name Prasad\n",
      "salary 100000.0\n"
     ]
    }
   ],
   "source": [
    "# for loop example - 2\n",
    "\n",
    "for employee in series:\n",
    "    for name,salary in employee.items():\n",
    "        print(name,salary)"
   ]
  },
  {
   "cell_type": "code",
   "execution_count": 29,
   "id": "e0519053-2e09-4bbb-a2df-4b5176d00ab0",
   "metadata": {},
   "outputs": [
    {
     "data": {
      "text/plain": [
       "(5,)"
      ]
     },
     "execution_count": 29,
     "metadata": {},
     "output_type": "execute_result"
    }
   ],
   "source": [
    "series.shape"
   ]
  },
  {
   "cell_type": "markdown",
   "id": "daec429f-477e-4d99-a90b-ee23d615512b",
   "metadata": {},
   "source": [
    "### Slicing"
   ]
  },
  {
   "cell_type": "code",
   "execution_count": 31,
   "id": "c23b8110-09fd-4a75-b9c4-51c47dc153a7",
   "metadata": {},
   "outputs": [
    {
     "data": {
      "text/plain": [
       "101     {'name': 'Ravi', 'salary': 125000.0}\n",
       "102    {'name': 'Kumar', 'salary': 135000.0}\n",
       "103    {'name': 'Mohan', 'salary': 150000.0}\n",
       "dtype: object"
      ]
     },
     "execution_count": 31,
     "metadata": {},
     "output_type": "execute_result"
    }
   ],
   "source": [
    "series[:3]"
   ]
  },
  {
   "cell_type": "code",
   "execution_count": 32,
   "id": "123b9fc5-12d1-4207-a65d-0d91f24c722d",
   "metadata": {},
   "outputs": [
    {
     "data": {
      "text/plain": [
       "103      {'name': 'Mohan', 'salary': 150000.0}\n",
       "104    {'name': 'Krishna', 'salary': 105000.0}\n",
       "dtype: object"
      ]
     },
     "execution_count": 32,
     "metadata": {},
     "output_type": "execute_result"
    }
   ],
   "source": [
    "series[2:4]"
   ]
  },
  {
   "cell_type": "code",
   "execution_count": 33,
   "id": "46cefd8a-ab0a-4fc3-ae87-ec49d3e997d1",
   "metadata": {},
   "outputs": [
    {
     "data": {
      "text/plain": [
       "101      {'name': 'Ravi', 'salary': 125000.0}\n",
       "103     {'name': 'Mohan', 'salary': 150000.0}\n",
       "105    {'name': 'Prasad', 'salary': 100000.0}\n",
       "dtype: object"
      ]
     },
     "execution_count": 33,
     "metadata": {},
     "output_type": "execute_result"
    }
   ],
   "source": [
    "series[::2]"
   ]
  },
  {
   "cell_type": "code",
   "execution_count": 35,
   "id": "abb88629-12ff-40b6-997f-e80327e02c68",
   "metadata": {},
   "outputs": [
    {
     "data": {
      "text/plain": [
       "105     {'name': 'Prasad', 'salary': 100000.0}\n",
       "104    {'name': 'Krishna', 'salary': 105000.0}\n",
       "103      {'name': 'Mohan', 'salary': 150000.0}\n",
       "102      {'name': 'Kumar', 'salary': 135000.0}\n",
       "101       {'name': 'Ravi', 'salary': 125000.0}\n",
       "dtype: object"
      ]
     },
     "execution_count": 35,
     "metadata": {},
     "output_type": "execute_result"
    }
   ],
   "source": [
    "series[::-1]"
   ]
  },
  {
   "cell_type": "markdown",
   "id": "1ae80132-9a10-404c-915a-0816246cc780",
   "metadata": {},
   "source": [
    "### Passing dictonary as a data to Pandas Series"
   ]
  },
  {
   "cell_type": "code",
   "execution_count": 25,
   "id": "3f8eb237-6fe6-431c-b7d1-646af9521256",
   "metadata": {},
   "outputs": [
    {
     "name": "stdout",
     "output_type": "stream",
     "text": [
      "a    10\n",
      "b    20\n",
      "c    30\n",
      "dtype: int64\n",
      "\n",
      "\n",
      "\n",
      "First value = 10\n"
     ]
    }
   ],
   "source": [
    "\n",
    "data = {'a': 10, 'b': 20, 'c': 30}\n",
    "\n",
    "s = pa.Series(data)\n",
    "\n",
    "print(s)\n",
    "\n",
    "# Note : here series index is a,b,c\n",
    "\n",
    "print(f\"\\n\\n\\nFirst value = {s['a']}\")"
   ]
  },
  {
   "cell_type": "markdown",
   "id": "517abc81-3714-40be-a54c-a53115cf160a",
   "metadata": {},
   "source": [
    "## Scalar Example"
   ]
  },
  {
   "cell_type": "code",
   "execution_count": 26,
   "id": "fe3e7603-57b2-49dd-9274-6e385d1d7604",
   "metadata": {},
   "outputs": [
    {
     "name": "stdout",
     "output_type": "stream",
     "text": [
      "x    5\n",
      "y    5\n",
      "z    5\n",
      "dtype: int64\n"
     ]
    }
   ],
   "source": [
    "s = pa.Series(5, index=['x', 'y', 'z'])  # fills all with 5\n",
    "\n",
    "print(s)\n"
   ]
  },
  {
   "cell_type": "markdown",
   "id": "b1f91e1f-c0e6-4633-914c-fb71c0f03151",
   "metadata": {},
   "source": [
    "#### 📚 3. Attributes of a Series\n",
    "        1. s.values       # Returns the data (as numpy array)\n",
    "        2. s.index        # Returns the index labels\n",
    "        3. s.dtype        # Data type of elements\n",
    "        4. s.size         # Number of elements\n",
    "        5. s.shape        # Shape (like (3,))"
   ]
  },
  {
   "cell_type": "code",
   "execution_count": 28,
   "id": "1e96509f-7297-40bf-9e5e-052dbed9a103",
   "metadata": {},
   "outputs": [
    {
     "name": "stdout",
     "output_type": "stream",
     "text": [
      "[5 5 5]\n",
      "Index(['x', 'y', 'z'], dtype='object')\n",
      "int64\n",
      "3\n",
      "(3,)\n"
     ]
    }
   ],
   "source": [
    "s = pa.Series(5, index=['x', 'y', 'z'])  # fills all with 5\n",
    "\n",
    "print(s.values) # [5 5 5]\n",
    "print(s.index)  # Index(['x', 'y', 'z'], dtype='object')\n",
    "print(s.dtype)  # int64\n",
    "print(s.size)   # 3\n",
    "print(s.shape)  # (3,)"
   ]
  },
  {
   "cell_type": "markdown",
   "id": "67dde701-3217-4817-aa7d-1a9848eb6c3c",
   "metadata": {},
   "source": [
    "### 🔄 5. Operations on Series\n",
    "\n",
    "#### Arithmetic operations:"
   ]
  },
  {
   "cell_type": "code",
   "execution_count": 38,
   "id": "d13cfa39-5139-4c68-8834-ecd6304526c2",
   "metadata": {},
   "outputs": [
    {
     "name": "stdout",
     "output_type": "stream",
     "text": [
      "a    15\n",
      "b    25\n",
      "c    35\n",
      "dtype: int64\n",
      "a    20\n",
      "b    40\n",
      "c    60\n",
      "dtype: int64\n"
     ]
    }
   ],
   "source": [
    "s = pa.Series([10, 20, 30], index=['a', 'b', 'c'])\n",
    "\n",
    "print(s + 5)           # Adds 5 to every element\n",
    "\n",
    "print(s * 2)           # Multiplies each by 2"
   ]
  },
  {
   "cell_type": "markdown",
   "id": "5aa271ae-df5d-4845-adde-8e860fdd3a80",
   "metadata": {},
   "source": [
    "#### With another series:"
   ]
  },
  {
   "cell_type": "code",
   "execution_count": 40,
   "id": "1cc901ef-2ae2-4659-b698-70b651e154ac",
   "metadata": {},
   "outputs": [
    {
     "data": {
      "text/plain": [
       "a    NaN\n",
       "b    6.0\n",
       "c    8.0\n",
       "d    NaN\n",
       "dtype: float64"
      ]
     },
     "execution_count": 40,
     "metadata": {},
     "output_type": "execute_result"
    }
   ],
   "source": [
    "s1 = pa.Series([1, 2, 3], index=['a', 'b', 'c'])\n",
    "s2 = pa.Series([4, 5, 6], index=['b', 'c', 'd'])\n",
    "s1 + s2 "
   ]
  },
  {
   "cell_type": "markdown",
   "id": "f467d2aa-96c9-4f85-95f6-962885ed634f",
   "metadata": {},
   "source": [
    "### Output:\n",
    "    a    NaN     # only in s1\n",
    "    b    6.0     # 2 + 4\n",
    "    c    8.0     # 3 + 5\n",
    "    d    NaN     # only in s2\n",
    "\n",
    "#### Why NaN?\n",
    "    Pandas can't perform arithmetic on indexes that don’t match in both Series. So it returns NaN (missing)."
   ]
  },
  {
   "cell_type": "code",
   "execution_count": 46,
   "id": "29457d1b-42dd-423a-910c-3c310dc238cb",
   "metadata": {},
   "outputs": [
    {
     "name": "stdout",
     "output_type": "stream",
     "text": [
      "a    20\n",
      "b    40\n",
      "c    60\n",
      "dtype: int64\n"
     ]
    }
   ],
   "source": [
    "s = pa.Series([10, 20, 30], index=['a', 'b', 'c'])\n",
    "\n",
    "print(s * 2)  "
   ]
  },
  {
   "cell_type": "code",
   "execution_count": 47,
   "id": "c37688c5-87cf-4499-9a15-5f7589ab2028",
   "metadata": {},
   "outputs": [
    {
     "data": {
      "text/plain": [
       "b    20\n",
       "c    30\n",
       "dtype: int64"
      ]
     },
     "execution_count": 47,
     "metadata": {},
     "output_type": "execute_result"
    }
   ],
   "source": [
    "s[s > 15] "
   ]
  },
  {
   "cell_type": "code",
   "execution_count": 45,
   "id": "01c03907-9f20-4fab-a680-8dc9d80e7a48",
   "metadata": {},
   "outputs": [
    {
     "data": {
      "text/plain": [
       "a    10\n",
       "b    20\n",
       "c    30\n",
       "dtype: int64"
      ]
     },
     "execution_count": 45,
     "metadata": {},
     "output_type": "execute_result"
    }
   ],
   "source": [
    "s[s % 2 == 0]"
   ]
  },
  {
   "cell_type": "markdown",
   "id": "c04fce62-75f5-4e2c-b337-2e92a2c7ff0e",
   "metadata": {},
   "source": [
    "## 🔁 7. Functions and Methods\n",
    "\n",
    "Some useful ones:\n",
    "\n",
    "    1. s.sum()\n",
    "    2. s.mean()\n",
    "    3. s.max()\n",
    "    4. s.min()\n",
    "    5. s.sort_values()\n",
    "    6. s.sort_index()\n",
    "    7. s.value_counts()  # count unique values\n",
    "    8. s.unique()        # unique values"
   ]
  },
  {
   "cell_type": "code",
   "execution_count": 50,
   "id": "8d7c44b0-7f3d-4c51-9d38-0eca92bc6211",
   "metadata": {},
   "outputs": [],
   "source": [
    "s = pa.Series([100, -20, 39, 8, 25], index=['a', 'd', 'e', 'b', 'c'])"
   ]
  },
  {
   "cell_type": "code",
   "execution_count": 54,
   "id": "3f36013d-7c24-468c-b221-a0a668731f24",
   "metadata": {},
   "outputs": [
    {
     "name": "stdout",
     "output_type": "stream",
     "text": [
      " Sum = 152\n",
      " Mean = 30.4\n",
      " Max = 100\n",
      " Min = -20\n",
      " Sorted Values \n",
      "d    -20\n",
      "b      8\n",
      "c     25\n",
      "e     39\n",
      "a    100\n",
      "dtype: int64)\n",
      " Sorted index  \n",
      "a    100\n",
      "b      8\n",
      "c     25\n",
      "d    -20\n",
      "e     39\n",
      "dtype: int64)\n"
     ]
    }
   ],
   "source": [
    "print(f\" Sum = {s.sum()}\")\n",
    "print(f\" Mean = {s.mean()}\")\n",
    "print(f\" Max = {s.max()}\")\n",
    "print(f\" Min = {s.min()}\")\n",
    "print(f\" Sorted Values \\n{s.sort_values()})\")\n",
    "print(f\" Sorted index  \\n{s.sort_index()})\")"
   ]
  },
  {
   "cell_type": "code",
   "execution_count": null,
   "id": "a4b98705-d5e5-4b2d-8c09-cf1411ca86f8",
   "metadata": {},
   "outputs": [],
   "source": []
  }
 ],
 "metadata": {
  "kernelspec": {
   "display_name": "Python 3 (ipykernel)",
   "language": "python",
   "name": "python3"
  },
  "language_info": {
   "codemirror_mode": {
    "name": "ipython",
    "version": 3
   },
   "file_extension": ".py",
   "mimetype": "text/x-python",
   "name": "python",
   "nbconvert_exporter": "python",
   "pygments_lexer": "ipython3",
   "version": "3.12.6"
  }
 },
 "nbformat": 4,
 "nbformat_minor": 5
}
