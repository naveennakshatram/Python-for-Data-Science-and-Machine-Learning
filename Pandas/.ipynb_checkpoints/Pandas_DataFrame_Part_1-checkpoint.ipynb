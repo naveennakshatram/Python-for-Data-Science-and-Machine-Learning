{
 "cells": [
  {
   "cell_type": "markdown",
   "id": "c4581176-13fb-4f42-8349-37d21909cf91",
   "metadata": {},
   "source": [
    "# DataFrame\n",
    "\n",
    "## What is a DataFrame ?\n",
    "### DataFrame is a bunch of pandas series which shares same index."
   ]
  },
  {
   "cell_type": "code",
   "execution_count": 9,
   "id": "c173a162-479a-4927-baa5-77170a9cead3",
   "metadata": {},
   "outputs": [
    {
     "data": {
      "text/plain": [
       "-0.8051835193804108"
      ]
     },
     "execution_count": 9,
     "metadata": {},
     "output_type": "execute_result"
    }
   ],
   "source": [
    "# Example on randn function from random package\n",
    "\n",
    "# The function numpy.random.randn() generates random numbers from the standard normal distribution.\n",
    "\n",
    "from numpy.random import randn\n",
    "\n",
    "randn() # This will return 1 random number"
   ]
  },
  {
   "cell_type": "code",
   "execution_count": 10,
   "id": "551663a3-b2fb-4567-a86d-f07ff809fa79",
   "metadata": {},
   "outputs": [
    {
     "data": {
      "text/plain": [
       "array([ 0.21228006,  0.49235385,  1.66745318, -1.90475993, -0.52030071])"
      ]
     },
     "execution_count": 10,
     "metadata": {},
     "output_type": "execute_result"
    }
   ],
   "source": [
    "randn(5)  # This will generate 1Dim Matrix of random numbers."
   ]
  },
  {
   "cell_type": "code",
   "execution_count": 11,
   "id": "191ec79e-a5b2-4a6f-ba25-0c509c6bb554",
   "metadata": {},
   "outputs": [
    {
     "data": {
      "text/plain": [
       "array([[-0.43239057,  0.27836227,  0.27090734, -0.91362123,  0.35889997],\n",
       "       [-0.53508396, -0.95499726,  1.69688074, -0.1117076 , -0.37001188],\n",
       "       [-0.1012709 , -0.45426876, -0.88492155, -0.31169476, -0.84966467],\n",
       "       [ 0.97847237,  0.66159202,  0.46084992, -0.05269805, -2.89921773],\n",
       "       [ 2.23442374,  0.66670258,  1.33828423,  0.18510509,  2.61107548]])"
      ]
     },
     "execution_count": 11,
     "metadata": {},
     "output_type": "execute_result"
    }
   ],
   "source": [
    "randn(5,5)  # This will generate 5*5 Matrix (2Dim) of random numbers."
   ]
  },
  {
   "cell_type": "code",
   "execution_count": 14,
   "id": "36c36335-3346-4238-bb58-5c1538ccd4e5",
   "metadata": {},
   "outputs": [
    {
     "data": {
      "text/plain": [
       "array([[[-1.39916188, -1.21039515, -0.35705464, -0.27541011],\n",
       "        [-0.56213202,  1.23688894,  0.30722755,  1.1112549 ],\n",
       "        [-1.02575962, -2.95381836,  1.11045506, -0.11439082]],\n",
       "\n",
       "       [[-0.47633318,  0.02132433, -0.05919265, -0.42729137],\n",
       "        [ 0.1986105 ,  0.40748948, -1.52412784, -0.6310939 ],\n",
       "        [-0.62256199,  0.05856904, -0.93039511,  1.32325277]]])"
      ]
     },
     "execution_count": 14,
     "metadata": {},
     "output_type": "execute_result"
    }
   ],
   "source": [
    "randn(2,3,4)  # This will generate Multi Dim Matrix of random numbers."
   ]
  },
  {
   "cell_type": "markdown",
   "id": "e77cec88-302f-477b-88b5-99d2272148e6",
   "metadata": {},
   "source": [
    "#### randn function Parameters:\n",
    "d0, d1,......., dn  --  int, optional\n",
    "\n",
    "    The dimensions of the returned array, must be non-negative. If no argument is given a single Python float is returned.\n",
    "\n",
    "#### randn function Returns :\n",
    "ndarray or float\n",
    "    \n",
    "    A (d0, d1, ..., dn)-shaped array of floating-point samples from the standard normal distribution, or a single such float if no parameters were supplied."
   ]
  },
  {
   "cell_type": "markdown",
   "id": "c4cae0bd-96f9-48af-a150-f41382fb5ac6",
   "metadata": {},
   "source": [
    "## Creating a DataFrame object\n",
    "\n",
    "####  pandas.DataFrame(data=None, index=None, columns=None, dtype=None, copy=None)"
   ]
  },
  {
   "cell_type": "code",
   "execution_count": 58,
   "id": "0cd9bc78-14ac-4750-923f-668623a9a6ef",
   "metadata": {},
   "outputs": [
    {
     "data": {
      "text/html": [
       "<div>\n",
       "<style scoped>\n",
       "    .dataframe tbody tr th:only-of-type {\n",
       "        vertical-align: middle;\n",
       "    }\n",
       "\n",
       "    .dataframe tbody tr th {\n",
       "        vertical-align: top;\n",
       "    }\n",
       "\n",
       "    .dataframe thead th {\n",
       "        text-align: right;\n",
       "    }\n",
       "</style>\n",
       "<table border=\"1\" class=\"dataframe\">\n",
       "  <thead>\n",
       "    <tr style=\"text-align: right;\">\n",
       "      <th></th>\n",
       "      <th>Z</th>\n",
       "      <th>Y</th>\n",
       "      <th>X</th>\n",
       "      <th>W</th>\n",
       "      <th>V</th>\n",
       "    </tr>\n",
       "  </thead>\n",
       "  <tbody>\n",
       "    <tr>\n",
       "      <th>A</th>\n",
       "      <td>-0.486400</td>\n",
       "      <td>-1.161892</td>\n",
       "      <td>2.685931</td>\n",
       "      <td>-0.625476</td>\n",
       "      <td>0.433312</td>\n",
       "    </tr>\n",
       "    <tr>\n",
       "      <th>B</th>\n",
       "      <td>0.410998</td>\n",
       "      <td>0.052810</td>\n",
       "      <td>0.963016</td>\n",
       "      <td>-0.168864</td>\n",
       "      <td>1.606999</td>\n",
       "    </tr>\n",
       "    <tr>\n",
       "      <th>C</th>\n",
       "      <td>-0.538373</td>\n",
       "      <td>-0.890497</td>\n",
       "      <td>-1.126993</td>\n",
       "      <td>0.373924</td>\n",
       "      <td>0.062922</td>\n",
       "    </tr>\n",
       "    <tr>\n",
       "      <th>D</th>\n",
       "      <td>-0.104495</td>\n",
       "      <td>1.059294</td>\n",
       "      <td>1.267068</td>\n",
       "      <td>1.276866</td>\n",
       "      <td>-0.222680</td>\n",
       "    </tr>\n",
       "    <tr>\n",
       "      <th>E</th>\n",
       "      <td>-1.064115</td>\n",
       "      <td>0.817193</td>\n",
       "      <td>-0.710931</td>\n",
       "      <td>0.964350</td>\n",
       "      <td>-0.006634</td>\n",
       "    </tr>\n",
       "  </tbody>\n",
       "</table>\n",
       "</div>"
      ],
      "text/plain": [
       "          Z         Y         X         W         V\n",
       "A -0.486400 -1.161892  2.685931 -0.625476  0.433312\n",
       "B  0.410998  0.052810  0.963016 -0.168864  1.606999\n",
       "C -0.538373 -0.890497 -1.126993  0.373924  0.062922\n",
       "D -0.104495  1.059294  1.267068  1.276866 -0.222680\n",
       "E -1.064115  0.817193 -0.710931  0.964350 -0.006634"
      ]
     },
     "execution_count": 58,
     "metadata": {},
     "output_type": "execute_result"
    }
   ],
   "source": [
    "import pandas as pd\n",
    "\n",
    "# Creating a dataframe object and assigning to df variable\n",
    "\n",
    "df = pd.DataFrame(data=randn(5,5), index=['A','B','C','D','E'], columns=['Z','Y','X','W','V'])\n",
    "\n",
    "df"
   ]
  },
  {
   "cell_type": "markdown",
   "id": "d40e9257-4af4-43e6-aa65-b38d68a4b202",
   "metadata": {},
   "source": [
    "#### Finding type of df object is"
   ]
  },
  {
   "cell_type": "code",
   "execution_count": 59,
   "id": "5f7c1670-e798-4b95-a320-f3c6734f4e9d",
   "metadata": {},
   "outputs": [
    {
     "data": {
      "text/plain": [
       "pandas.core.frame.DataFrame"
      ]
     },
     "execution_count": 59,
     "metadata": {},
     "output_type": "execute_result"
    }
   ],
   "source": [
    "type(df)  # DataFrame Object"
   ]
  },
  {
   "cell_type": "code",
   "execution_count": 60,
   "id": "bb250460-77b7-4497-9fb9-78be3055f504",
   "metadata": {},
   "outputs": [
    {
     "name": "stdout",
     "output_type": "stream",
     "text": [
      "A   -0.486400\n",
      "B    0.410998\n",
      "C   -0.538373\n",
      "D   -0.104495\n",
      "E   -1.064115\n",
      "Name: Z, dtype: float64\n"
     ]
    }
   ],
   "source": [
    "# reading only z column values\n",
    "\n",
    "print(df['Z'])"
   ]
  },
  {
   "cell_type": "code",
   "execution_count": 61,
   "id": "7c4d1212-b9dc-44e1-b2eb-6730be87ac2a",
   "metadata": {},
   "outputs": [
    {
     "name": "stdout",
     "output_type": "stream",
     "text": [
      "A   -0.486400\n",
      "B    0.410998\n",
      "C   -0.538373\n",
      "D   -0.104495\n",
      "E   -1.064115\n",
      "Name: Z, dtype: float64\n"
     ]
    }
   ],
   "source": [
    "# reading only z column values\n",
    "\n",
    "# df['Z'] is also written as df.Z\n",
    "\n",
    "print(df.Z)"
   ]
  },
  {
   "cell_type": "markdown",
   "id": "c2cf6029-31bd-4872-aa0b-6be7642d8068",
   "metadata": {},
   "source": [
    "### Note :  Print type of 1 colum"
   ]
  },
  {
   "cell_type": "code",
   "execution_count": 62,
   "id": "0825d65b-0680-43a7-a1a1-06b3d6006cbb",
   "metadata": {},
   "outputs": [
    {
     "data": {
      "text/plain": [
       "pandas.core.series.Series"
      ]
     },
     "execution_count": 62,
     "metadata": {},
     "output_type": "execute_result"
    }
   ],
   "source": [
    "type(df.Z)"
   ]
  },
  {
   "cell_type": "markdown",
   "id": "0fd7a181-9419-4f25-8ef8-7bd9b839a822",
   "metadata": {},
   "source": [
    "📌 📌 📌 📌 <b><span style=\"color:red;\">It's printing type of a row as a Series. It means DataFrame is a bunch of Series which share same index.</span></u></b> ✅ "
   ]
  },
  {
   "cell_type": "code",
   "execution_count": 63,
   "id": "40efb451-bd65-4598-9525-bf5965479a17",
   "metadata": {},
   "outputs": [
    {
     "data": {
      "text/html": [
       "<div>\n",
       "<style scoped>\n",
       "    .dataframe tbody tr th:only-of-type {\n",
       "        vertical-align: middle;\n",
       "    }\n",
       "\n",
       "    .dataframe tbody tr th {\n",
       "        vertical-align: top;\n",
       "    }\n",
       "\n",
       "    .dataframe thead th {\n",
       "        text-align: right;\n",
       "    }\n",
       "</style>\n",
       "<table border=\"1\" class=\"dataframe\">\n",
       "  <thead>\n",
       "    <tr style=\"text-align: right;\">\n",
       "      <th></th>\n",
       "      <th>Z</th>\n",
       "      <th>X</th>\n",
       "    </tr>\n",
       "  </thead>\n",
       "  <tbody>\n",
       "    <tr>\n",
       "      <th>A</th>\n",
       "      <td>-0.486400</td>\n",
       "      <td>2.685931</td>\n",
       "    </tr>\n",
       "    <tr>\n",
       "      <th>B</th>\n",
       "      <td>0.410998</td>\n",
       "      <td>0.963016</td>\n",
       "    </tr>\n",
       "    <tr>\n",
       "      <th>C</th>\n",
       "      <td>-0.538373</td>\n",
       "      <td>-1.126993</td>\n",
       "    </tr>\n",
       "    <tr>\n",
       "      <th>D</th>\n",
       "      <td>-0.104495</td>\n",
       "      <td>1.267068</td>\n",
       "    </tr>\n",
       "    <tr>\n",
       "      <th>E</th>\n",
       "      <td>-1.064115</td>\n",
       "      <td>-0.710931</td>\n",
       "    </tr>\n",
       "  </tbody>\n",
       "</table>\n",
       "</div>"
      ],
      "text/plain": [
       "          Z         X\n",
       "A -0.486400  2.685931\n",
       "B  0.410998  0.963016\n",
       "C -0.538373 -1.126993\n",
       "D -0.104495  1.267068\n",
       "E -1.064115 -0.710931"
      ]
     },
     "execution_count": 63,
     "metadata": {},
     "output_type": "execute_result"
    }
   ],
   "source": [
    "# reading multiple columns \n",
    "\n",
    "result = df[['Z','X']]\n",
    "\n",
    "result"
   ]
  },
  {
   "cell_type": "markdown",
   "id": "05436bda-42b3-4909-b254-3d2bdf15987e",
   "metadata": {},
   "source": [
    "### Note :  Print type of Multiple colum"
   ]
  },
  {
   "cell_type": "code",
   "execution_count": 64,
   "id": "7c5fae08-dc0c-4849-9f70-d9f1992246c6",
   "metadata": {},
   "outputs": [
    {
     "data": {
      "text/plain": [
       "pandas.core.frame.DataFrame"
      ]
     },
     "execution_count": 64,
     "metadata": {},
     "output_type": "execute_result"
    }
   ],
   "source": [
    "type(result)"
   ]
  },
  {
   "cell_type": "code",
   "execution_count": 65,
   "id": "2e50b67f-1d8e-408d-88e3-0b79a9230265",
   "metadata": {},
   "outputs": [
    {
     "data": {
      "text/plain": [
       "(5, 5)"
      ]
     },
     "execution_count": 65,
     "metadata": {},
     "output_type": "execute_result"
    }
   ],
   "source": [
    "df.shape"
   ]
  },
  {
   "cell_type": "markdown",
   "id": "8bdb5309-9488-42bc-9e3e-cd4d32309921",
   "metadata": {},
   "source": [
    "### For above created DataFrame we can see the sahpe as\n",
    "\n",
    "🔥🔥 <b><span style=\"color:Green;\"> Underastand the shape of DataFrame</span></u></b> \n",
    "\n",
    "(5, 5)\n",
    "\n",
    "5 - Rows \n",
    "5 - colums \n",
    "\n",
    "#### Note : \n",
    "    1. The position of 5(Row) in tuple is Zero (0).\n",
    "    2. The position of 5(col) in tuple is One (1).\n",
    "\n",
    "####  To Remove a row from a Dataframe we use drop function.\n",
    "\n",
    "    DataFrame.drop(labels=None, *, axis=0, index=None, columns=None, level=None, inplace=False, errors='raise')[source]"
   ]
  },
  {
   "cell_type": "code",
   "execution_count": 66,
   "id": "3fa48daf-2f3b-4fcb-9fa7-e65649f5969f",
   "metadata": {},
   "outputs": [
    {
     "data": {
      "text/html": [
       "<div>\n",
       "<style scoped>\n",
       "    .dataframe tbody tr th:only-of-type {\n",
       "        vertical-align: middle;\n",
       "    }\n",
       "\n",
       "    .dataframe tbody tr th {\n",
       "        vertical-align: top;\n",
       "    }\n",
       "\n",
       "    .dataframe thead th {\n",
       "        text-align: right;\n",
       "    }\n",
       "</style>\n",
       "<table border=\"1\" class=\"dataframe\">\n",
       "  <thead>\n",
       "    <tr style=\"text-align: right;\">\n",
       "      <th></th>\n",
       "      <th>Z</th>\n",
       "      <th>Y</th>\n",
       "      <th>X</th>\n",
       "      <th>W</th>\n",
       "      <th>V</th>\n",
       "    </tr>\n",
       "  </thead>\n",
       "  <tbody>\n",
       "    <tr>\n",
       "      <th>A</th>\n",
       "      <td>-0.486400</td>\n",
       "      <td>-1.161892</td>\n",
       "      <td>2.685931</td>\n",
       "      <td>-0.625476</td>\n",
       "      <td>0.433312</td>\n",
       "    </tr>\n",
       "    <tr>\n",
       "      <th>B</th>\n",
       "      <td>0.410998</td>\n",
       "      <td>0.052810</td>\n",
       "      <td>0.963016</td>\n",
       "      <td>-0.168864</td>\n",
       "      <td>1.606999</td>\n",
       "    </tr>\n",
       "    <tr>\n",
       "      <th>C</th>\n",
       "      <td>-0.538373</td>\n",
       "      <td>-0.890497</td>\n",
       "      <td>-1.126993</td>\n",
       "      <td>0.373924</td>\n",
       "      <td>0.062922</td>\n",
       "    </tr>\n",
       "    <tr>\n",
       "      <th>D</th>\n",
       "      <td>-0.104495</td>\n",
       "      <td>1.059294</td>\n",
       "      <td>1.267068</td>\n",
       "      <td>1.276866</td>\n",
       "      <td>-0.222680</td>\n",
       "    </tr>\n",
       "    <tr>\n",
       "      <th>E</th>\n",
       "      <td>-1.064115</td>\n",
       "      <td>0.817193</td>\n",
       "      <td>-0.710931</td>\n",
       "      <td>0.964350</td>\n",
       "      <td>-0.006634</td>\n",
       "    </tr>\n",
       "  </tbody>\n",
       "</table>\n",
       "</div>"
      ],
      "text/plain": [
       "          Z         Y         X         W         V\n",
       "A -0.486400 -1.161892  2.685931 -0.625476  0.433312\n",
       "B  0.410998  0.052810  0.963016 -0.168864  1.606999\n",
       "C -0.538373 -0.890497 -1.126993  0.373924  0.062922\n",
       "D -0.104495  1.059294  1.267068  1.276866 -0.222680\n",
       "E -1.064115  0.817193 -0.710931  0.964350 -0.006634"
      ]
     },
     "execution_count": 66,
     "metadata": {},
     "output_type": "execute_result"
    }
   ],
   "source": [
    "df"
   ]
  },
  {
   "cell_type": "markdown",
   "id": "ef03f82f-44cb-402f-a693-2630822f12c9",
   "metadata": {},
   "source": [
    "## Removing Col and Row"
   ]
  },
  {
   "cell_type": "code",
   "execution_count": 67,
   "id": "bbdf71d9-e3fc-49d2-8c3d-c13b94ec1b3f",
   "metadata": {},
   "outputs": [
    {
     "ename": "KeyError",
     "evalue": "\"['W'] not found in axis\"",
     "output_type": "error",
     "traceback": [
      "\u001b[31m---------------------------------------------------------------------------\u001b[39m",
      "\u001b[31mKeyError\u001b[39m                                  Traceback (most recent call last)",
      "\u001b[36mCell\u001b[39m\u001b[36m \u001b[39m\u001b[32mIn[67]\u001b[39m\u001b[32m, line 3\u001b[39m\n\u001b[32m      1\u001b[39m \u001b[38;5;66;03m# removing W column\u001b[39;00m\n\u001b[32m----> \u001b[39m\u001b[32m3\u001b[39m \u001b[43mdf\u001b[49m\u001b[43m.\u001b[49m\u001b[43mdrop\u001b[49m\u001b[43m(\u001b[49m\u001b[33;43m'\u001b[39;49m\u001b[33;43mW\u001b[39;49m\u001b[33;43m'\u001b[39;49m\u001b[43m)\u001b[49m \u001b[38;5;66;03m#  This will return error because by default the axis is Zero it means, the drop function is searching in rown not cols .\u001b[39;00m\n\u001b[32m      4\u001b[39m              \u001b[38;5;66;03m#  as per the DATAFRAME shape the colum i 1 and rows are 0.\u001b[39;00m\n\u001b[32m      5\u001b[39m              \u001b[38;5;66;03m#  so we need to pass axis = 1\u001b[39;00m\n",
      "\u001b[36mFile \u001b[39m\u001b[32m~/Desktop/My Documents/CNCF/Python-for-Data-Science-and-Machine-Learning/myvenv/lib/python3.12/site-packages/pandas/core/frame.py:5588\u001b[39m, in \u001b[36mDataFrame.drop\u001b[39m\u001b[34m(self, labels, axis, index, columns, level, inplace, errors)\u001b[39m\n\u001b[32m   5440\u001b[39m \u001b[38;5;28;01mdef\u001b[39;00m\u001b[38;5;250m \u001b[39m\u001b[34mdrop\u001b[39m(\n\u001b[32m   5441\u001b[39m     \u001b[38;5;28mself\u001b[39m,\n\u001b[32m   5442\u001b[39m     labels: IndexLabel | \u001b[38;5;28;01mNone\u001b[39;00m = \u001b[38;5;28;01mNone\u001b[39;00m,\n\u001b[32m   (...)\u001b[39m\u001b[32m   5449\u001b[39m     errors: IgnoreRaise = \u001b[33m\"\u001b[39m\u001b[33mraise\u001b[39m\u001b[33m\"\u001b[39m,\n\u001b[32m   5450\u001b[39m ) -> DataFrame | \u001b[38;5;28;01mNone\u001b[39;00m:\n\u001b[32m   5451\u001b[39m \u001b[38;5;250m    \u001b[39m\u001b[33;03m\"\"\"\u001b[39;00m\n\u001b[32m   5452\u001b[39m \u001b[33;03m    Drop specified labels from rows or columns.\u001b[39;00m\n\u001b[32m   5453\u001b[39m \n\u001b[32m   (...)\u001b[39m\u001b[32m   5586\u001b[39m \u001b[33;03m            weight  1.0     0.8\u001b[39;00m\n\u001b[32m   5587\u001b[39m \u001b[33;03m    \"\"\"\u001b[39;00m\n\u001b[32m-> \u001b[39m\u001b[32m5588\u001b[39m     \u001b[38;5;28;01mreturn\u001b[39;00m \u001b[38;5;28;43msuper\u001b[39;49m\u001b[43m(\u001b[49m\u001b[43m)\u001b[49m\u001b[43m.\u001b[49m\u001b[43mdrop\u001b[49m\u001b[43m(\u001b[49m\n\u001b[32m   5589\u001b[39m \u001b[43m        \u001b[49m\u001b[43mlabels\u001b[49m\u001b[43m=\u001b[49m\u001b[43mlabels\u001b[49m\u001b[43m,\u001b[49m\n\u001b[32m   5590\u001b[39m \u001b[43m        \u001b[49m\u001b[43maxis\u001b[49m\u001b[43m=\u001b[49m\u001b[43maxis\u001b[49m\u001b[43m,\u001b[49m\n\u001b[32m   5591\u001b[39m \u001b[43m        \u001b[49m\u001b[43mindex\u001b[49m\u001b[43m=\u001b[49m\u001b[43mindex\u001b[49m\u001b[43m,\u001b[49m\n\u001b[32m   5592\u001b[39m \u001b[43m        \u001b[49m\u001b[43mcolumns\u001b[49m\u001b[43m=\u001b[49m\u001b[43mcolumns\u001b[49m\u001b[43m,\u001b[49m\n\u001b[32m   5593\u001b[39m \u001b[43m        \u001b[49m\u001b[43mlevel\u001b[49m\u001b[43m=\u001b[49m\u001b[43mlevel\u001b[49m\u001b[43m,\u001b[49m\n\u001b[32m   5594\u001b[39m \u001b[43m        \u001b[49m\u001b[43minplace\u001b[49m\u001b[43m=\u001b[49m\u001b[43minplace\u001b[49m\u001b[43m,\u001b[49m\n\u001b[32m   5595\u001b[39m \u001b[43m        \u001b[49m\u001b[43merrors\u001b[49m\u001b[43m=\u001b[49m\u001b[43merrors\u001b[49m\u001b[43m,\u001b[49m\n\u001b[32m   5596\u001b[39m \u001b[43m    \u001b[49m\u001b[43m)\u001b[49m\n",
      "\u001b[36mFile \u001b[39m\u001b[32m~/Desktop/My Documents/CNCF/Python-for-Data-Science-and-Machine-Learning/myvenv/lib/python3.12/site-packages/pandas/core/generic.py:4807\u001b[39m, in \u001b[36mNDFrame.drop\u001b[39m\u001b[34m(self, labels, axis, index, columns, level, inplace, errors)\u001b[39m\n\u001b[32m   4805\u001b[39m \u001b[38;5;28;01mfor\u001b[39;00m axis, labels \u001b[38;5;129;01min\u001b[39;00m axes.items():\n\u001b[32m   4806\u001b[39m     \u001b[38;5;28;01mif\u001b[39;00m labels \u001b[38;5;129;01mis\u001b[39;00m \u001b[38;5;129;01mnot\u001b[39;00m \u001b[38;5;28;01mNone\u001b[39;00m:\n\u001b[32m-> \u001b[39m\u001b[32m4807\u001b[39m         obj = \u001b[43mobj\u001b[49m\u001b[43m.\u001b[49m\u001b[43m_drop_axis\u001b[49m\u001b[43m(\u001b[49m\u001b[43mlabels\u001b[49m\u001b[43m,\u001b[49m\u001b[43m \u001b[49m\u001b[43maxis\u001b[49m\u001b[43m,\u001b[49m\u001b[43m \u001b[49m\u001b[43mlevel\u001b[49m\u001b[43m=\u001b[49m\u001b[43mlevel\u001b[49m\u001b[43m,\u001b[49m\u001b[43m \u001b[49m\u001b[43merrors\u001b[49m\u001b[43m=\u001b[49m\u001b[43merrors\u001b[49m\u001b[43m)\u001b[49m\n\u001b[32m   4809\u001b[39m \u001b[38;5;28;01mif\u001b[39;00m inplace:\n\u001b[32m   4810\u001b[39m     \u001b[38;5;28mself\u001b[39m._update_inplace(obj)\n",
      "\u001b[36mFile \u001b[39m\u001b[32m~/Desktop/My Documents/CNCF/Python-for-Data-Science-and-Machine-Learning/myvenv/lib/python3.12/site-packages/pandas/core/generic.py:4849\u001b[39m, in \u001b[36mNDFrame._drop_axis\u001b[39m\u001b[34m(self, labels, axis, level, errors, only_slice)\u001b[39m\n\u001b[32m   4847\u001b[39m         new_axis = axis.drop(labels, level=level, errors=errors)\n\u001b[32m   4848\u001b[39m     \u001b[38;5;28;01melse\u001b[39;00m:\n\u001b[32m-> \u001b[39m\u001b[32m4849\u001b[39m         new_axis = \u001b[43maxis\u001b[49m\u001b[43m.\u001b[49m\u001b[43mdrop\u001b[49m\u001b[43m(\u001b[49m\u001b[43mlabels\u001b[49m\u001b[43m,\u001b[49m\u001b[43m \u001b[49m\u001b[43merrors\u001b[49m\u001b[43m=\u001b[49m\u001b[43merrors\u001b[49m\u001b[43m)\u001b[49m\n\u001b[32m   4850\u001b[39m     indexer = axis.get_indexer(new_axis)\n\u001b[32m   4852\u001b[39m \u001b[38;5;66;03m# Case for non-unique axis\u001b[39;00m\n\u001b[32m   4853\u001b[39m \u001b[38;5;28;01melse\u001b[39;00m:\n",
      "\u001b[36mFile \u001b[39m\u001b[32m~/Desktop/My Documents/CNCF/Python-for-Data-Science-and-Machine-Learning/myvenv/lib/python3.12/site-packages/pandas/core/indexes/base.py:7098\u001b[39m, in \u001b[36mIndex.drop\u001b[39m\u001b[34m(self, labels, errors)\u001b[39m\n\u001b[32m   7096\u001b[39m \u001b[38;5;28;01mif\u001b[39;00m mask.any():\n\u001b[32m   7097\u001b[39m     \u001b[38;5;28;01mif\u001b[39;00m errors != \u001b[33m\"\u001b[39m\u001b[33mignore\u001b[39m\u001b[33m\"\u001b[39m:\n\u001b[32m-> \u001b[39m\u001b[32m7098\u001b[39m         \u001b[38;5;28;01mraise\u001b[39;00m \u001b[38;5;167;01mKeyError\u001b[39;00m(\u001b[33mf\u001b[39m\u001b[33m\"\u001b[39m\u001b[38;5;132;01m{\u001b[39;00mlabels[mask].tolist()\u001b[38;5;132;01m}\u001b[39;00m\u001b[33m not found in axis\u001b[39m\u001b[33m\"\u001b[39m)\n\u001b[32m   7099\u001b[39m     indexer = indexer[~mask]\n\u001b[32m   7100\u001b[39m \u001b[38;5;28;01mreturn\u001b[39;00m \u001b[38;5;28mself\u001b[39m.delete(indexer)\n",
      "\u001b[31mKeyError\u001b[39m: \"['W'] not found in axis\""
     ]
    }
   ],
   "source": [
    "# removing W column\n",
    "\n",
    "df.drop('W') #  This will return error because by default the axis is Zero it means, the drop function is searching in rown not cols .\n",
    "             #  as per the DATAFRAME shape the colum i 1 and rows are 0.\n",
    "             #  so we need to pass axis = 1"
   ]
  },
  {
   "cell_type": "code",
   "execution_count": 68,
   "id": "c46377da-6910-4d27-b775-969aec7672ba",
   "metadata": {},
   "outputs": [
    {
     "data": {
      "text/html": [
       "<div>\n",
       "<style scoped>\n",
       "    .dataframe tbody tr th:only-of-type {\n",
       "        vertical-align: middle;\n",
       "    }\n",
       "\n",
       "    .dataframe tbody tr th {\n",
       "        vertical-align: top;\n",
       "    }\n",
       "\n",
       "    .dataframe thead th {\n",
       "        text-align: right;\n",
       "    }\n",
       "</style>\n",
       "<table border=\"1\" class=\"dataframe\">\n",
       "  <thead>\n",
       "    <tr style=\"text-align: right;\">\n",
       "      <th></th>\n",
       "      <th>Z</th>\n",
       "      <th>Y</th>\n",
       "      <th>X</th>\n",
       "      <th>V</th>\n",
       "    </tr>\n",
       "  </thead>\n",
       "  <tbody>\n",
       "    <tr>\n",
       "      <th>A</th>\n",
       "      <td>-0.486400</td>\n",
       "      <td>-1.161892</td>\n",
       "      <td>2.685931</td>\n",
       "      <td>0.433312</td>\n",
       "    </tr>\n",
       "    <tr>\n",
       "      <th>B</th>\n",
       "      <td>0.410998</td>\n",
       "      <td>0.052810</td>\n",
       "      <td>0.963016</td>\n",
       "      <td>1.606999</td>\n",
       "    </tr>\n",
       "    <tr>\n",
       "      <th>C</th>\n",
       "      <td>-0.538373</td>\n",
       "      <td>-0.890497</td>\n",
       "      <td>-1.126993</td>\n",
       "      <td>0.062922</td>\n",
       "    </tr>\n",
       "    <tr>\n",
       "      <th>D</th>\n",
       "      <td>-0.104495</td>\n",
       "      <td>1.059294</td>\n",
       "      <td>1.267068</td>\n",
       "      <td>-0.222680</td>\n",
       "    </tr>\n",
       "    <tr>\n",
       "      <th>E</th>\n",
       "      <td>-1.064115</td>\n",
       "      <td>0.817193</td>\n",
       "      <td>-0.710931</td>\n",
       "      <td>-0.006634</td>\n",
       "    </tr>\n",
       "  </tbody>\n",
       "</table>\n",
       "</div>"
      ],
      "text/plain": [
       "          Z         Y         X         V\n",
       "A -0.486400 -1.161892  2.685931  0.433312\n",
       "B  0.410998  0.052810  0.963016  1.606999\n",
       "C -0.538373 -0.890497 -1.126993  0.062922\n",
       "D -0.104495  1.059294  1.267068 -0.222680\n",
       "E -1.064115  0.817193 -0.710931 -0.006634"
      ]
     },
     "execution_count": 68,
     "metadata": {},
     "output_type": "execute_result"
    }
   ],
   "source": [
    "# removing W column\n",
    "\n",
    "df.drop('W',axis=1) #  This will return error because by default the axis is Zero it means, the drop function is searching in rown not cols .\n",
    "             #  as per the DATAFRAME shape the colum i 1 and rows are 0.\n",
    "             #  so we need to pass axis = 1"
   ]
  },
  {
   "cell_type": "markdown",
   "id": "85a422d4-e43a-4f98-bcb7-191324d1d288",
   "metadata": {},
   "source": [
    "### ❗❗❗Note❗❗❗ : is column 'W' deleted ..?\n",
    "\n",
    "### Ans is 💥'NO'💥..  Its just droped not deleted permanently."
   ]
  },
  {
   "cell_type": "code",
   "execution_count": 69,
   "id": "4c36934c-4286-4887-96b7-037a733d2f8c",
   "metadata": {},
   "outputs": [
    {
     "data": {
      "text/html": [
       "<div>\n",
       "<style scoped>\n",
       "    .dataframe tbody tr th:only-of-type {\n",
       "        vertical-align: middle;\n",
       "    }\n",
       "\n",
       "    .dataframe tbody tr th {\n",
       "        vertical-align: top;\n",
       "    }\n",
       "\n",
       "    .dataframe thead th {\n",
       "        text-align: right;\n",
       "    }\n",
       "</style>\n",
       "<table border=\"1\" class=\"dataframe\">\n",
       "  <thead>\n",
       "    <tr style=\"text-align: right;\">\n",
       "      <th></th>\n",
       "      <th>Z</th>\n",
       "      <th>Y</th>\n",
       "      <th>X</th>\n",
       "      <th>W</th>\n",
       "      <th>V</th>\n",
       "    </tr>\n",
       "  </thead>\n",
       "  <tbody>\n",
       "    <tr>\n",
       "      <th>A</th>\n",
       "      <td>-0.486400</td>\n",
       "      <td>-1.161892</td>\n",
       "      <td>2.685931</td>\n",
       "      <td>-0.625476</td>\n",
       "      <td>0.433312</td>\n",
       "    </tr>\n",
       "    <tr>\n",
       "      <th>B</th>\n",
       "      <td>0.410998</td>\n",
       "      <td>0.052810</td>\n",
       "      <td>0.963016</td>\n",
       "      <td>-0.168864</td>\n",
       "      <td>1.606999</td>\n",
       "    </tr>\n",
       "    <tr>\n",
       "      <th>C</th>\n",
       "      <td>-0.538373</td>\n",
       "      <td>-0.890497</td>\n",
       "      <td>-1.126993</td>\n",
       "      <td>0.373924</td>\n",
       "      <td>0.062922</td>\n",
       "    </tr>\n",
       "    <tr>\n",
       "      <th>D</th>\n",
       "      <td>-0.104495</td>\n",
       "      <td>1.059294</td>\n",
       "      <td>1.267068</td>\n",
       "      <td>1.276866</td>\n",
       "      <td>-0.222680</td>\n",
       "    </tr>\n",
       "    <tr>\n",
       "      <th>E</th>\n",
       "      <td>-1.064115</td>\n",
       "      <td>0.817193</td>\n",
       "      <td>-0.710931</td>\n",
       "      <td>0.964350</td>\n",
       "      <td>-0.006634</td>\n",
       "    </tr>\n",
       "  </tbody>\n",
       "</table>\n",
       "</div>"
      ],
      "text/plain": [
       "          Z         Y         X         W         V\n",
       "A -0.486400 -1.161892  2.685931 -0.625476  0.433312\n",
       "B  0.410998  0.052810  0.963016 -0.168864  1.606999\n",
       "C -0.538373 -0.890497 -1.126993  0.373924  0.062922\n",
       "D -0.104495  1.059294  1.267068  1.276866 -0.222680\n",
       "E -1.064115  0.817193 -0.710931  0.964350 -0.006634"
      ]
     },
     "execution_count": 69,
     "metadata": {},
     "output_type": "execute_result"
    }
   ],
   "source": [
    "df  #  if you check the below response still we can see 'W' col."
   ]
  },
  {
   "cell_type": "markdown",
   "id": "4fc023eb-7c17-42b1-a88a-534a5afa98d2",
   "metadata": {},
   "source": [
    "### 🔔🔔🔔To Delete it permanently we need to pass 'inplace=True' Parameter."
   ]
  },
  {
   "cell_type": "code",
   "execution_count": 70,
   "id": "2c7374e6-a90a-4af3-85d1-516c575593c8",
   "metadata": {},
   "outputs": [],
   "source": [
    "df.drop('W',axis=1,inplace=True)"
   ]
  },
  {
   "cell_type": "code",
   "execution_count": 71,
   "id": "207bd8ab-983e-4e93-8f68-d42537e1f8f0",
   "metadata": {},
   "outputs": [
    {
     "data": {
      "text/html": [
       "<div>\n",
       "<style scoped>\n",
       "    .dataframe tbody tr th:only-of-type {\n",
       "        vertical-align: middle;\n",
       "    }\n",
       "\n",
       "    .dataframe tbody tr th {\n",
       "        vertical-align: top;\n",
       "    }\n",
       "\n",
       "    .dataframe thead th {\n",
       "        text-align: right;\n",
       "    }\n",
       "</style>\n",
       "<table border=\"1\" class=\"dataframe\">\n",
       "  <thead>\n",
       "    <tr style=\"text-align: right;\">\n",
       "      <th></th>\n",
       "      <th>Z</th>\n",
       "      <th>Y</th>\n",
       "      <th>X</th>\n",
       "      <th>V</th>\n",
       "    </tr>\n",
       "  </thead>\n",
       "  <tbody>\n",
       "    <tr>\n",
       "      <th>A</th>\n",
       "      <td>-0.486400</td>\n",
       "      <td>-1.161892</td>\n",
       "      <td>2.685931</td>\n",
       "      <td>0.433312</td>\n",
       "    </tr>\n",
       "    <tr>\n",
       "      <th>B</th>\n",
       "      <td>0.410998</td>\n",
       "      <td>0.052810</td>\n",
       "      <td>0.963016</td>\n",
       "      <td>1.606999</td>\n",
       "    </tr>\n",
       "    <tr>\n",
       "      <th>C</th>\n",
       "      <td>-0.538373</td>\n",
       "      <td>-0.890497</td>\n",
       "      <td>-1.126993</td>\n",
       "      <td>0.062922</td>\n",
       "    </tr>\n",
       "    <tr>\n",
       "      <th>D</th>\n",
       "      <td>-0.104495</td>\n",
       "      <td>1.059294</td>\n",
       "      <td>1.267068</td>\n",
       "      <td>-0.222680</td>\n",
       "    </tr>\n",
       "    <tr>\n",
       "      <th>E</th>\n",
       "      <td>-1.064115</td>\n",
       "      <td>0.817193</td>\n",
       "      <td>-0.710931</td>\n",
       "      <td>-0.006634</td>\n",
       "    </tr>\n",
       "  </tbody>\n",
       "</table>\n",
       "</div>"
      ],
      "text/plain": [
       "          Z         Y         X         V\n",
       "A -0.486400 -1.161892  2.685931  0.433312\n",
       "B  0.410998  0.052810  0.963016  1.606999\n",
       "C -0.538373 -0.890497 -1.126993  0.062922\n",
       "D -0.104495  1.059294  1.267068 -0.222680\n",
       "E -1.064115  0.817193 -0.710931 -0.006634"
      ]
     },
     "execution_count": 71,
     "metadata": {},
     "output_type": "execute_result"
    }
   ],
   "source": [
    "df"
   ]
  },
  {
   "cell_type": "code",
   "execution_count": 72,
   "id": "39ceeea3-d23f-45d2-b1c9-bda8c3dea720",
   "metadata": {},
   "outputs": [
    {
     "data": {
      "text/html": [
       "<div>\n",
       "<style scoped>\n",
       "    .dataframe tbody tr th:only-of-type {\n",
       "        vertical-align: middle;\n",
       "    }\n",
       "\n",
       "    .dataframe tbody tr th {\n",
       "        vertical-align: top;\n",
       "    }\n",
       "\n",
       "    .dataframe thead th {\n",
       "        text-align: right;\n",
       "    }\n",
       "</style>\n",
       "<table border=\"1\" class=\"dataframe\">\n",
       "  <thead>\n",
       "    <tr style=\"text-align: right;\">\n",
       "      <th></th>\n",
       "      <th>Z</th>\n",
       "      <th>Y</th>\n",
       "      <th>X</th>\n",
       "      <th>V</th>\n",
       "    </tr>\n",
       "  </thead>\n",
       "  <tbody>\n",
       "    <tr>\n",
       "      <th>A</th>\n",
       "      <td>-0.486400</td>\n",
       "      <td>-1.161892</td>\n",
       "      <td>2.685931</td>\n",
       "      <td>0.433312</td>\n",
       "    </tr>\n",
       "    <tr>\n",
       "      <th>B</th>\n",
       "      <td>0.410998</td>\n",
       "      <td>0.052810</td>\n",
       "      <td>0.963016</td>\n",
       "      <td>1.606999</td>\n",
       "    </tr>\n",
       "    <tr>\n",
       "      <th>D</th>\n",
       "      <td>-0.104495</td>\n",
       "      <td>1.059294</td>\n",
       "      <td>1.267068</td>\n",
       "      <td>-0.222680</td>\n",
       "    </tr>\n",
       "    <tr>\n",
       "      <th>E</th>\n",
       "      <td>-1.064115</td>\n",
       "      <td>0.817193</td>\n",
       "      <td>-0.710931</td>\n",
       "      <td>-0.006634</td>\n",
       "    </tr>\n",
       "  </tbody>\n",
       "</table>\n",
       "</div>"
      ],
      "text/plain": [
       "          Z         Y         X         V\n",
       "A -0.486400 -1.161892  2.685931  0.433312\n",
       "B  0.410998  0.052810  0.963016  1.606999\n",
       "D -0.104495  1.059294  1.267068 -0.222680\n",
       "E -1.064115  0.817193 -0.710931 -0.006634"
      ]
     },
     "execution_count": 72,
     "metadata": {},
     "output_type": "execute_result"
    }
   ],
   "source": [
    "# removing C row\n",
    "\n",
    "df.drop('C') #  This will not return any error because by default the axis is Zero it means.\n",
    "             #  In the DATAFRAME shape the colum i 1 and rows are 0.\n",
    "             #  By default the axis is Zero, so no need to pass."
   ]
  },
  {
   "cell_type": "markdown",
   "id": "6374cb8b-72e0-42cf-b81f-ff25ed2f8b83",
   "metadata": {},
   "source": [
    "###  ‼️  Note ‼️  Same as col we need to pass inplace to delete row permanently."
   ]
  },
  {
   "cell_type": "code",
   "execution_count": 73,
   "id": "e9fbdd32-6e29-414e-931f-9dfd21ddd90a",
   "metadata": {},
   "outputs": [
    {
     "data": {
      "text/html": [
       "<div>\n",
       "<style scoped>\n",
       "    .dataframe tbody tr th:only-of-type {\n",
       "        vertical-align: middle;\n",
       "    }\n",
       "\n",
       "    .dataframe tbody tr th {\n",
       "        vertical-align: top;\n",
       "    }\n",
       "\n",
       "    .dataframe thead th {\n",
       "        text-align: right;\n",
       "    }\n",
       "</style>\n",
       "<table border=\"1\" class=\"dataframe\">\n",
       "  <thead>\n",
       "    <tr style=\"text-align: right;\">\n",
       "      <th></th>\n",
       "      <th>Z</th>\n",
       "      <th>Y</th>\n",
       "      <th>X</th>\n",
       "      <th>V</th>\n",
       "    </tr>\n",
       "  </thead>\n",
       "  <tbody>\n",
       "    <tr>\n",
       "      <th>A</th>\n",
       "      <td>-0.486400</td>\n",
       "      <td>-1.161892</td>\n",
       "      <td>2.685931</td>\n",
       "      <td>0.433312</td>\n",
       "    </tr>\n",
       "    <tr>\n",
       "      <th>B</th>\n",
       "      <td>0.410998</td>\n",
       "      <td>0.052810</td>\n",
       "      <td>0.963016</td>\n",
       "      <td>1.606999</td>\n",
       "    </tr>\n",
       "    <tr>\n",
       "      <th>C</th>\n",
       "      <td>-0.538373</td>\n",
       "      <td>-0.890497</td>\n",
       "      <td>-1.126993</td>\n",
       "      <td>0.062922</td>\n",
       "    </tr>\n",
       "    <tr>\n",
       "      <th>D</th>\n",
       "      <td>-0.104495</td>\n",
       "      <td>1.059294</td>\n",
       "      <td>1.267068</td>\n",
       "      <td>-0.222680</td>\n",
       "    </tr>\n",
       "    <tr>\n",
       "      <th>E</th>\n",
       "      <td>-1.064115</td>\n",
       "      <td>0.817193</td>\n",
       "      <td>-0.710931</td>\n",
       "      <td>-0.006634</td>\n",
       "    </tr>\n",
       "  </tbody>\n",
       "</table>\n",
       "</div>"
      ],
      "text/plain": [
       "          Z         Y         X         V\n",
       "A -0.486400 -1.161892  2.685931  0.433312\n",
       "B  0.410998  0.052810  0.963016  1.606999\n",
       "C -0.538373 -0.890497 -1.126993  0.062922\n",
       "D -0.104495  1.059294  1.267068 -0.222680\n",
       "E -1.064115  0.817193 -0.710931 -0.006634"
      ]
     },
     "execution_count": 73,
     "metadata": {},
     "output_type": "execute_result"
    }
   ],
   "source": [
    "df"
   ]
  },
  {
   "cell_type": "code",
   "execution_count": 74,
   "id": "53b56e58-a058-4167-881b-7ad13cd5cb26",
   "metadata": {},
   "outputs": [],
   "source": [
    "df.drop('C',inplace=True)"
   ]
  },
  {
   "cell_type": "code",
   "execution_count": 75,
   "id": "64b048f6-294a-491e-8a74-8f413971614b",
   "metadata": {},
   "outputs": [
    {
     "data": {
      "text/html": [
       "<div>\n",
       "<style scoped>\n",
       "    .dataframe tbody tr th:only-of-type {\n",
       "        vertical-align: middle;\n",
       "    }\n",
       "\n",
       "    .dataframe tbody tr th {\n",
       "        vertical-align: top;\n",
       "    }\n",
       "\n",
       "    .dataframe thead th {\n",
       "        text-align: right;\n",
       "    }\n",
       "</style>\n",
       "<table border=\"1\" class=\"dataframe\">\n",
       "  <thead>\n",
       "    <tr style=\"text-align: right;\">\n",
       "      <th></th>\n",
       "      <th>Z</th>\n",
       "      <th>Y</th>\n",
       "      <th>X</th>\n",
       "      <th>V</th>\n",
       "    </tr>\n",
       "  </thead>\n",
       "  <tbody>\n",
       "    <tr>\n",
       "      <th>A</th>\n",
       "      <td>-0.486400</td>\n",
       "      <td>-1.161892</td>\n",
       "      <td>2.685931</td>\n",
       "      <td>0.433312</td>\n",
       "    </tr>\n",
       "    <tr>\n",
       "      <th>B</th>\n",
       "      <td>0.410998</td>\n",
       "      <td>0.052810</td>\n",
       "      <td>0.963016</td>\n",
       "      <td>1.606999</td>\n",
       "    </tr>\n",
       "    <tr>\n",
       "      <th>D</th>\n",
       "      <td>-0.104495</td>\n",
       "      <td>1.059294</td>\n",
       "      <td>1.267068</td>\n",
       "      <td>-0.222680</td>\n",
       "    </tr>\n",
       "    <tr>\n",
       "      <th>E</th>\n",
       "      <td>-1.064115</td>\n",
       "      <td>0.817193</td>\n",
       "      <td>-0.710931</td>\n",
       "      <td>-0.006634</td>\n",
       "    </tr>\n",
       "  </tbody>\n",
       "</table>\n",
       "</div>"
      ],
      "text/plain": [
       "          Z         Y         X         V\n",
       "A -0.486400 -1.161892  2.685931  0.433312\n",
       "B  0.410998  0.052810  0.963016  1.606999\n",
       "D -0.104495  1.059294  1.267068 -0.222680\n",
       "E -1.064115  0.817193 -0.710931 -0.006634"
      ]
     },
     "execution_count": 75,
     "metadata": {},
     "output_type": "execute_result"
    }
   ],
   "source": [
    "df"
   ]
  },
  {
   "cell_type": "markdown",
   "id": "69747454-cf5b-40be-b58f-7dada5040e58",
   "metadata": {},
   "source": [
    "## Adding a new Column"
   ]
  },
  {
   "cell_type": "code",
   "execution_count": 76,
   "id": "70b17e9f-74b2-488f-886a-a9381d52fb4d",
   "metadata": {},
   "outputs": [],
   "source": [
    "df['Sum(Z+Y)'] = df['Z'] + df ['Y']  #  Note: The new col name is \"Sum(Z+Y)\" we can name anything...!"
   ]
  },
  {
   "cell_type": "code",
   "execution_count": 77,
   "id": "d6602f08-a782-4c13-be03-cd27dcdbe3dd",
   "metadata": {},
   "outputs": [
    {
     "data": {
      "text/html": [
       "<div>\n",
       "<style scoped>\n",
       "    .dataframe tbody tr th:only-of-type {\n",
       "        vertical-align: middle;\n",
       "    }\n",
       "\n",
       "    .dataframe tbody tr th {\n",
       "        vertical-align: top;\n",
       "    }\n",
       "\n",
       "    .dataframe thead th {\n",
       "        text-align: right;\n",
       "    }\n",
       "</style>\n",
       "<table border=\"1\" class=\"dataframe\">\n",
       "  <thead>\n",
       "    <tr style=\"text-align: right;\">\n",
       "      <th></th>\n",
       "      <th>Z</th>\n",
       "      <th>Y</th>\n",
       "      <th>X</th>\n",
       "      <th>V</th>\n",
       "      <th>Sum(Z+Y)</th>\n",
       "    </tr>\n",
       "  </thead>\n",
       "  <tbody>\n",
       "    <tr>\n",
       "      <th>A</th>\n",
       "      <td>-0.486400</td>\n",
       "      <td>-1.161892</td>\n",
       "      <td>2.685931</td>\n",
       "      <td>0.433312</td>\n",
       "      <td>-1.648291</td>\n",
       "    </tr>\n",
       "    <tr>\n",
       "      <th>B</th>\n",
       "      <td>0.410998</td>\n",
       "      <td>0.052810</td>\n",
       "      <td>0.963016</td>\n",
       "      <td>1.606999</td>\n",
       "      <td>0.463809</td>\n",
       "    </tr>\n",
       "    <tr>\n",
       "      <th>D</th>\n",
       "      <td>-0.104495</td>\n",
       "      <td>1.059294</td>\n",
       "      <td>1.267068</td>\n",
       "      <td>-0.222680</td>\n",
       "      <td>0.954798</td>\n",
       "    </tr>\n",
       "    <tr>\n",
       "      <th>E</th>\n",
       "      <td>-1.064115</td>\n",
       "      <td>0.817193</td>\n",
       "      <td>-0.710931</td>\n",
       "      <td>-0.006634</td>\n",
       "      <td>-0.246922</td>\n",
       "    </tr>\n",
       "  </tbody>\n",
       "</table>\n",
       "</div>"
      ],
      "text/plain": [
       "          Z         Y         X         V  Sum(Z+Y)\n",
       "A -0.486400 -1.161892  2.685931  0.433312 -1.648291\n",
       "B  0.410998  0.052810  0.963016  1.606999  0.463809\n",
       "D -0.104495  1.059294  1.267068 -0.222680  0.954798\n",
       "E -1.064115  0.817193 -0.710931 -0.006634 -0.246922"
      ]
     },
     "execution_count": 77,
     "metadata": {},
     "output_type": "execute_result"
    }
   ],
   "source": [
    "df  "
   ]
  },
  {
   "cell_type": "markdown",
   "id": "82dac755-9b4f-4520-aa02-b365a6641b33",
   "metadata": {},
   "source": [
    "## Reading Col"
   ]
  },
  {
   "cell_type": "code",
   "execution_count": 80,
   "id": "33eedc22-af75-4b6f-8189-f609a3c5a2d1",
   "metadata": {},
   "outputs": [
    {
     "data": {
      "text/plain": [
       "A    2.685931\n",
       "B    0.963016\n",
       "D    1.267068\n",
       "E   -0.710931\n",
       "Name: X, dtype: float64"
      ]
     },
     "execution_count": 80,
     "metadata": {},
     "output_type": "execute_result"
    }
   ],
   "source": [
    "## Reading 'X' Column from DataFrame Object.\n",
    "\n",
    "df.X"
   ]
  },
  {
   "cell_type": "code",
   "execution_count": 81,
   "id": "9f963c08-368e-4c1a-a25e-7d8b159feef7",
   "metadata": {},
   "outputs": [
    {
     "data": {
      "text/plain": [
       "A    0.433312\n",
       "B    1.606999\n",
       "D   -0.222680\n",
       "E   -0.006634\n",
       "Name: V, dtype: float64"
      ]
     },
     "execution_count": 81,
     "metadata": {},
     "output_type": "execute_result"
    }
   ],
   "source": [
    "## Reading 'V' Column from DataFrame Object.\n",
    "\n",
    "df.V"
   ]
  },
  {
   "cell_type": "code",
   "execution_count": 82,
   "id": "77e3b5f0-7a2b-4091-9e9b-091ad99a162b",
   "metadata": {},
   "outputs": [
    {
     "ename": "AttributeError",
     "evalue": "'DataFrame' object has no attribute 'Sum'",
     "output_type": "error",
     "traceback": [
      "\u001b[31m---------------------------------------------------------------------------\u001b[39m",
      "\u001b[31mAttributeError\u001b[39m                            Traceback (most recent call last)",
      "\u001b[32m/var/folders/pg/b2pnn0z17pb8wmv8fch7fkph0000gn/T/ipykernel_64580/1002458441.py\u001b[39m in \u001b[36m?\u001b[39m\u001b[34m()\u001b[39m\n\u001b[32m      1\u001b[39m \u001b[38;5;66;03m## Reading 'Sum(Z+Y)' Column from DataFrame Object.\u001b[39;00m\n\u001b[32m      2\u001b[39m \n\u001b[32m----> \u001b[39m\u001b[32m3\u001b[39m df.Sum(Z+Y)\n",
      "\u001b[32m~/Desktop/My Documents/CNCF/Python-for-Data-Science-and-Machine-Learning/myvenv/lib/python3.12/site-packages/pandas/core/generic.py\u001b[39m in \u001b[36m?\u001b[39m\u001b[34m(self, name)\u001b[39m\n\u001b[32m   6314\u001b[39m             \u001b[38;5;28;01mand\u001b[39;00m name \u001b[38;5;28;01mnot\u001b[39;00m \u001b[38;5;28;01min\u001b[39;00m self._accessors\n\u001b[32m   6315\u001b[39m             \u001b[38;5;28;01mand\u001b[39;00m self._info_axis._can_hold_identifiers_and_holds_name(name)\n\u001b[32m   6316\u001b[39m         ):\n\u001b[32m   6317\u001b[39m             \u001b[38;5;28;01mreturn\u001b[39;00m self[name]\n\u001b[32m-> \u001b[39m\u001b[32m6318\u001b[39m         \u001b[38;5;28;01mreturn\u001b[39;00m object.__getattribute__(self, name)\n",
      "\u001b[31mAttributeError\u001b[39m: 'DataFrame' object has no attribute 'Sum'"
     ]
    }
   ],
   "source": [
    "## Reading 'Sum(Z+Y)' Column from DataFrame Object.\n",
    "\n",
    "df.Sum(Z+Y)  # This is assuming the Sum as function so try using df['Sum(Z+Y)']"
   ]
  },
  {
   "cell_type": "code",
   "execution_count": 83,
   "id": "b5ce856a-8b8c-439a-9bcc-0854f951486c",
   "metadata": {},
   "outputs": [
    {
     "data": {
      "text/plain": [
       "A   -1.648291\n",
       "B    0.463809\n",
       "D    0.954798\n",
       "E   -0.246922\n",
       "Name: Sum(Z+Y), dtype: float64"
      ]
     },
     "execution_count": 83,
     "metadata": {},
     "output_type": "execute_result"
    }
   ],
   "source": [
    "## Reading 'Sum(Z+Y)' Column from DataFrame Object.\n",
    "\n",
    "df['Sum(Z+Y)']"
   ]
  },
  {
   "cell_type": "markdown",
   "id": "d0e4e06a-f066-40ae-a584-d2c63d51dda4",
   "metadata": {},
   "source": [
    "## Reading Row"
   ]
  },
  {
   "cell_type": "code",
   "execution_count": 84,
   "id": "6d4f39c4-637d-4a67-bfa4-34edc7d0cca5",
   "metadata": {},
   "outputs": [
    {
     "data": {
      "text/plain": [
       "Z          -0.486400\n",
       "Y          -1.161892\n",
       "X           2.685931\n",
       "V           0.433312\n",
       "Sum(Z+Y)   -1.648291\n",
       "Name: A, dtype: float64"
      ]
     },
     "execution_count": 84,
     "metadata": {},
     "output_type": "execute_result"
    }
   ],
   "source": [
    "# To read a row we use \"loc\" \n",
    "\n",
    "df.loc['A']"
   ]
  },
  {
   "cell_type": "code",
   "execution_count": 88,
   "id": "f8e44213-73a8-4101-b998-85ce6cd2532b",
   "metadata": {},
   "outputs": [
    {
     "data": {
      "text/plain": [
       "Z          -0.486400\n",
       "Y          -1.161892\n",
       "X           2.685931\n",
       "V           0.433312\n",
       "Sum(Z+Y)   -1.648291\n",
       "Name: A, dtype: float64"
      ]
     },
     "execution_count": 88,
     "metadata": {},
     "output_type": "execute_result"
    }
   ],
   "source": [
    "# \"iloc\" -- 'i' stands for index\n",
    "\n",
    "df.iloc[0]"
   ]
  },
  {
   "cell_type": "code",
   "execution_count": 89,
   "id": "ed440479-0567-438e-8bf4-f05b0c786270",
   "metadata": {},
   "outputs": [],
   "source": [
    "####  Note : The both outputs are same."
   ]
  },
  {
   "cell_type": "code",
   "execution_count": 92,
   "id": "bcec0c53-c9dc-4fcc-be99-23d9dcc0fb1c",
   "metadata": {},
   "outputs": [
    {
     "data": {
      "text/html": [
       "<div>\n",
       "<style scoped>\n",
       "    .dataframe tbody tr th:only-of-type {\n",
       "        vertical-align: middle;\n",
       "    }\n",
       "\n",
       "    .dataframe tbody tr th {\n",
       "        vertical-align: top;\n",
       "    }\n",
       "\n",
       "    .dataframe thead th {\n",
       "        text-align: right;\n",
       "    }\n",
       "</style>\n",
       "<table border=\"1\" class=\"dataframe\">\n",
       "  <thead>\n",
       "    <tr style=\"text-align: right;\">\n",
       "      <th></th>\n",
       "      <th>Z</th>\n",
       "      <th>Y</th>\n",
       "      <th>X</th>\n",
       "      <th>V</th>\n",
       "      <th>Sum(Z+Y)</th>\n",
       "    </tr>\n",
       "  </thead>\n",
       "  <tbody>\n",
       "    <tr>\n",
       "      <th>A</th>\n",
       "      <td>-0.486400</td>\n",
       "      <td>-1.161892</td>\n",
       "      <td>2.685931</td>\n",
       "      <td>0.433312</td>\n",
       "      <td>-1.648291</td>\n",
       "    </tr>\n",
       "    <tr>\n",
       "      <th>B</th>\n",
       "      <td>0.410998</td>\n",
       "      <td>0.052810</td>\n",
       "      <td>0.963016</td>\n",
       "      <td>1.606999</td>\n",
       "      <td>0.463809</td>\n",
       "    </tr>\n",
       "  </tbody>\n",
       "</table>\n",
       "</div>"
      ],
      "text/plain": [
       "          Z         Y         X         V  Sum(Z+Y)\n",
       "A -0.486400 -1.161892  2.685931  0.433312 -1.648291\n",
       "B  0.410998  0.052810  0.963016  1.606999  0.463809"
      ]
     },
     "execution_count": 92,
     "metadata": {},
     "output_type": "execute_result"
    }
   ],
   "source": [
    "df.iloc[:2]"
   ]
  },
  {
   "cell_type": "code",
   "execution_count": 94,
   "id": "5810a6be-4f77-4686-a7ed-4b01bb8ff81f",
   "metadata": {},
   "outputs": [
    {
     "data": {
      "text/html": [
       "<div>\n",
       "<style scoped>\n",
       "    .dataframe tbody tr th:only-of-type {\n",
       "        vertical-align: middle;\n",
       "    }\n",
       "\n",
       "    .dataframe tbody tr th {\n",
       "        vertical-align: top;\n",
       "    }\n",
       "\n",
       "    .dataframe thead th {\n",
       "        text-align: right;\n",
       "    }\n",
       "</style>\n",
       "<table border=\"1\" class=\"dataframe\">\n",
       "  <thead>\n",
       "    <tr style=\"text-align: right;\">\n",
       "      <th></th>\n",
       "      <th>Z</th>\n",
       "      <th>Y</th>\n",
       "      <th>X</th>\n",
       "      <th>V</th>\n",
       "      <th>Sum(Z+Y)</th>\n",
       "    </tr>\n",
       "  </thead>\n",
       "  <tbody>\n",
       "    <tr>\n",
       "      <th>E</th>\n",
       "      <td>-1.064115</td>\n",
       "      <td>0.817193</td>\n",
       "      <td>-0.710931</td>\n",
       "      <td>-0.006634</td>\n",
       "      <td>-0.246922</td>\n",
       "    </tr>\n",
       "    <tr>\n",
       "      <th>D</th>\n",
       "      <td>-0.104495</td>\n",
       "      <td>1.059294</td>\n",
       "      <td>1.267068</td>\n",
       "      <td>-0.222680</td>\n",
       "      <td>0.954798</td>\n",
       "    </tr>\n",
       "    <tr>\n",
       "      <th>B</th>\n",
       "      <td>0.410998</td>\n",
       "      <td>0.052810</td>\n",
       "      <td>0.963016</td>\n",
       "      <td>1.606999</td>\n",
       "      <td>0.463809</td>\n",
       "    </tr>\n",
       "    <tr>\n",
       "      <th>A</th>\n",
       "      <td>-0.486400</td>\n",
       "      <td>-1.161892</td>\n",
       "      <td>2.685931</td>\n",
       "      <td>0.433312</td>\n",
       "      <td>-1.648291</td>\n",
       "    </tr>\n",
       "  </tbody>\n",
       "</table>\n",
       "</div>"
      ],
      "text/plain": [
       "          Z         Y         X         V  Sum(Z+Y)\n",
       "E -1.064115  0.817193 -0.710931 -0.006634 -0.246922\n",
       "D -0.104495  1.059294  1.267068 -0.222680  0.954798\n",
       "B  0.410998  0.052810  0.963016  1.606999  0.463809\n",
       "A -0.486400 -1.161892  2.685931  0.433312 -1.648291"
      ]
     },
     "execution_count": 94,
     "metadata": {},
     "output_type": "execute_result"
    }
   ],
   "source": [
    "df.iloc[::-1]  # in reverse order."
   ]
  },
  {
   "cell_type": "code",
   "execution_count": 97,
   "id": "f96b8f98-d37a-4a28-8055-f665c16e9f0f",
   "metadata": {},
   "outputs": [
    {
     "data": {
      "text/plain": [
       "np.float64(2.6859308410918197)"
      ]
     },
     "execution_count": 97,
     "metadata": {},
     "output_type": "execute_result"
    }
   ],
   "source": [
    "df.loc['A','X']  # Reading only 1 shell value."
   ]
  },
  {
   "cell_type": "code",
   "execution_count": 100,
   "id": "dedd0532-27f8-476b-9c76-bc97887ba60a",
   "metadata": {},
   "outputs": [
    {
     "data": {
      "text/html": [
       "<div>\n",
       "<style scoped>\n",
       "    .dataframe tbody tr th:only-of-type {\n",
       "        vertical-align: middle;\n",
       "    }\n",
       "\n",
       "    .dataframe tbody tr th {\n",
       "        vertical-align: top;\n",
       "    }\n",
       "\n",
       "    .dataframe thead th {\n",
       "        text-align: right;\n",
       "    }\n",
       "</style>\n",
       "<table border=\"1\" class=\"dataframe\">\n",
       "  <thead>\n",
       "    <tr style=\"text-align: right;\">\n",
       "      <th></th>\n",
       "      <th>X</th>\n",
       "    </tr>\n",
       "  </thead>\n",
       "  <tbody>\n",
       "    <tr>\n",
       "      <th>A</th>\n",
       "      <td>2.685931</td>\n",
       "    </tr>\n",
       "    <tr>\n",
       "      <th>D</th>\n",
       "      <td>1.267068</td>\n",
       "    </tr>\n",
       "    <tr>\n",
       "      <th>B</th>\n",
       "      <td>0.963016</td>\n",
       "    </tr>\n",
       "  </tbody>\n",
       "</table>\n",
       "</div>"
      ],
      "text/plain": [
       "          X\n",
       "A  2.685931\n",
       "D  1.267068\n",
       "B  0.963016"
      ]
     },
     "execution_count": 100,
     "metadata": {},
     "output_type": "execute_result"
    }
   ],
   "source": [
    "df.loc[['A','D','B'],['X']]"
   ]
  },
  {
   "cell_type": "code",
   "execution_count": 101,
   "id": "3a2d0840-ee69-4020-a1e2-c4ccc13d389f",
   "metadata": {},
   "outputs": [
    {
     "data": {
      "text/html": [
       "<div>\n",
       "<style scoped>\n",
       "    .dataframe tbody tr th:only-of-type {\n",
       "        vertical-align: middle;\n",
       "    }\n",
       "\n",
       "    .dataframe tbody tr th {\n",
       "        vertical-align: top;\n",
       "    }\n",
       "\n",
       "    .dataframe thead th {\n",
       "        text-align: right;\n",
       "    }\n",
       "</style>\n",
       "<table border=\"1\" class=\"dataframe\">\n",
       "  <thead>\n",
       "    <tr style=\"text-align: right;\">\n",
       "      <th></th>\n",
       "      <th>X</th>\n",
       "      <th>Y</th>\n",
       "      <th>Z</th>\n",
       "    </tr>\n",
       "  </thead>\n",
       "  <tbody>\n",
       "    <tr>\n",
       "      <th>A</th>\n",
       "      <td>2.685931</td>\n",
       "      <td>-1.161892</td>\n",
       "      <td>-0.486400</td>\n",
       "    </tr>\n",
       "    <tr>\n",
       "      <th>D</th>\n",
       "      <td>1.267068</td>\n",
       "      <td>1.059294</td>\n",
       "      <td>-0.104495</td>\n",
       "    </tr>\n",
       "  </tbody>\n",
       "</table>\n",
       "</div>"
      ],
      "text/plain": [
       "          X         Y         Z\n",
       "A  2.685931 -1.161892 -0.486400\n",
       "D  1.267068  1.059294 -0.104495"
      ]
     },
     "execution_count": 101,
     "metadata": {},
     "output_type": "execute_result"
    }
   ],
   "source": [
    "df.loc[['A','D'],['X','Y','Z']]"
   ]
  },
  {
   "cell_type": "code",
   "execution_count": 102,
   "id": "4cf4c020-f8e9-41fd-93a7-debca9b2a6d1",
   "metadata": {},
   "outputs": [
    {
     "data": {
      "text/html": [
       "<div>\n",
       "<style scoped>\n",
       "    .dataframe tbody tr th:only-of-type {\n",
       "        vertical-align: middle;\n",
       "    }\n",
       "\n",
       "    .dataframe tbody tr th {\n",
       "        vertical-align: top;\n",
       "    }\n",
       "\n",
       "    .dataframe thead th {\n",
       "        text-align: right;\n",
       "    }\n",
       "</style>\n",
       "<table border=\"1\" class=\"dataframe\">\n",
       "  <thead>\n",
       "    <tr style=\"text-align: right;\">\n",
       "      <th></th>\n",
       "      <th>X</th>\n",
       "      <th>Y</th>\n",
       "      <th>Z</th>\n",
       "    </tr>\n",
       "  </thead>\n",
       "  <tbody>\n",
       "    <tr>\n",
       "      <th>A</th>\n",
       "      <td>2.685931</td>\n",
       "      <td>-1.161892</td>\n",
       "      <td>-0.4864</td>\n",
       "    </tr>\n",
       "  </tbody>\n",
       "</table>\n",
       "</div>"
      ],
      "text/plain": [
       "          X         Y       Z\n",
       "A  2.685931 -1.161892 -0.4864"
      ]
     },
     "execution_count": 102,
     "metadata": {},
     "output_type": "execute_result"
    }
   ],
   "source": [
    "df.loc[['A'],['X','Y','Z']]"
   ]
  },
  {
   "cell_type": "code",
   "execution_count": null,
   "id": "255a3fac-80b1-480a-bd31-a73783baa460",
   "metadata": {},
   "outputs": [],
   "source": []
  }
 ],
 "metadata": {
  "kernelspec": {
   "display_name": "Python 3 (ipykernel)",
   "language": "python",
   "name": "python3"
  },
  "language_info": {
   "codemirror_mode": {
    "name": "ipython",
    "version": 3
   },
   "file_extension": ".py",
   "mimetype": "text/x-python",
   "name": "python",
   "nbconvert_exporter": "python",
   "pygments_lexer": "ipython3",
   "version": "3.12.6"
  }
 },
 "nbformat": 4,
 "nbformat_minor": 5
}
