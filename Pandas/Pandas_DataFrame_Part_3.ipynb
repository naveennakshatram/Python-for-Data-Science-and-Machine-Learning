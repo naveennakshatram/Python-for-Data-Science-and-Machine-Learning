{
 "cells": [
  {
   "cell_type": "markdown",
   "id": "6c633a3a-db9e-4493-be05-aabafdc34de0",
   "metadata": {},
   "source": [
    "# Multi-Dimensional Arrays + DataFrame"
   ]
  },
  {
   "cell_type": "code",
   "execution_count": 16,
   "id": "69697225-9ddb-4582-9138-83241c6cb77b",
   "metadata": {},
   "outputs": [],
   "source": [
    "# Preparing a Multi-Dim Array.\n",
    "\n",
    "groups = ['G1','G1','G1','G2','G2','G2']\n",
    "\n",
    "number_of_groups = [1,2,3,1,2,3]"
   ]
  },
  {
   "cell_type": "code",
   "execution_count": 17,
   "id": "8b3a8e62-56a7-4efe-8662-66078339fbba",
   "metadata": {},
   "outputs": [
    {
     "data": {
      "text/plain": [
       "[('G1', 1), ('G1', 2), ('G1', 3), ('G2', 1), ('G2', 2), ('G2', 3)]"
      ]
     },
     "execution_count": 17,
     "metadata": {},
     "output_type": "execute_result"
    }
   ],
   "source": [
    "# Zip groups and number_of_groups and convert it into a list\n",
    "\n",
    "index = list(zip(groups,number_of_groups))\n",
    "\n",
    "index"
   ]
  },
  {
   "cell_type": "code",
   "execution_count": 18,
   "id": "f5a16fd6-036e-46ff-a806-8e4ec371456d",
   "metadata": {},
   "outputs": [
    {
     "data": {
      "text/plain": [
       "MultiIndex([('G1', 1),\n",
       "            ('G1', 2),\n",
       "            ('G1', 3),\n",
       "            ('G2', 1),\n",
       "            ('G2', 2),\n",
       "            ('G2', 3)],\n",
       "           )"
      ]
     },
     "execution_count": 18,
     "metadata": {},
     "output_type": "execute_result"
    }
   ],
   "source": [
    "import pandas as pd\n",
    "\n",
    "index_values = pd.MultiIndex.from_tuples(index)\n",
    "\n",
    "index_values"
   ]
  },
  {
   "cell_type": "code",
   "execution_count": 19,
   "id": "5f7e10ab-5d5c-476e-937c-a42ca29b1147",
   "metadata": {},
   "outputs": [
    {
     "data": {
      "text/html": [
       "<div>\n",
       "<style scoped>\n",
       "    .dataframe tbody tr th:only-of-type {\n",
       "        vertical-align: middle;\n",
       "    }\n",
       "\n",
       "    .dataframe tbody tr th {\n",
       "        vertical-align: top;\n",
       "    }\n",
       "\n",
       "    .dataframe thead th {\n",
       "        text-align: right;\n",
       "    }\n",
       "</style>\n",
       "<table border=\"1\" class=\"dataframe\">\n",
       "  <thead>\n",
       "    <tr style=\"text-align: right;\">\n",
       "      <th></th>\n",
       "      <th></th>\n",
       "      <th>A</th>\n",
       "      <th>B</th>\n",
       "      <th>C</th>\n",
       "    </tr>\n",
       "  </thead>\n",
       "  <tbody>\n",
       "    <tr>\n",
       "      <th rowspan=\"3\" valign=\"top\">G1</th>\n",
       "      <th>1</th>\n",
       "      <td>-0.262776</td>\n",
       "      <td>0.093377</td>\n",
       "      <td>1.656729</td>\n",
       "    </tr>\n",
       "    <tr>\n",
       "      <th>2</th>\n",
       "      <td>0.323697</td>\n",
       "      <td>0.183879</td>\n",
       "      <td>0.490110</td>\n",
       "    </tr>\n",
       "    <tr>\n",
       "      <th>3</th>\n",
       "      <td>-0.701421</td>\n",
       "      <td>-0.164712</td>\n",
       "      <td>0.349989</td>\n",
       "    </tr>\n",
       "    <tr>\n",
       "      <th rowspan=\"3\" valign=\"top\">G2</th>\n",
       "      <th>1</th>\n",
       "      <td>-1.714396</td>\n",
       "      <td>0.797822</td>\n",
       "      <td>0.042254</td>\n",
       "    </tr>\n",
       "    <tr>\n",
       "      <th>2</th>\n",
       "      <td>0.147024</td>\n",
       "      <td>1.121407</td>\n",
       "      <td>0.664219</td>\n",
       "    </tr>\n",
       "    <tr>\n",
       "      <th>3</th>\n",
       "      <td>-0.085082</td>\n",
       "      <td>1.237569</td>\n",
       "      <td>0.896328</td>\n",
       "    </tr>\n",
       "  </tbody>\n",
       "</table>\n",
       "</div>"
      ],
      "text/plain": [
       "             A         B         C\n",
       "G1 1 -0.262776  0.093377  1.656729\n",
       "   2  0.323697  0.183879  0.490110\n",
       "   3 -0.701421 -0.164712  0.349989\n",
       "G2 1 -1.714396  0.797822  0.042254\n",
       "   2  0.147024  1.121407  0.664219\n",
       "   3 -0.085082  1.237569  0.896328"
      ]
     },
     "execution_count": 19,
     "metadata": {},
     "output_type": "execute_result"
    }
   ],
   "source": [
    "# Creating DataFrame Object\n",
    "\n",
    "from numpy.random import randn\n",
    "\n",
    "df = pd.DataFrame(data=randn(6,3), index=index_values, columns=['A','B','C'])\n",
    "\n",
    "df"
   ]
  },
  {
   "cell_type": "markdown",
   "id": "4b1cc599-4153-43a5-9142-6210b54ef7b3",
   "metadata": {},
   "source": [
    "### Reading cols from multi dim "
   ]
  },
  {
   "cell_type": "code",
   "execution_count": 20,
   "id": "11d1cddd-ec11-482f-b0e3-9fc105b39f3d",
   "metadata": {},
   "outputs": [
    {
     "data": {
      "text/plain": [
       "G1  1   -0.262776\n",
       "    2    0.323697\n",
       "    3   -0.701421\n",
       "G2  1   -1.714396\n",
       "    2    0.147024\n",
       "    3   -0.085082\n",
       "Name: A, dtype: float64"
      ]
     },
     "execution_count": 20,
     "metadata": {},
     "output_type": "execute_result"
    }
   ],
   "source": [
    "# Reading 'A' Column\n",
    "df.A"
   ]
  },
  {
   "cell_type": "code",
   "execution_count": 21,
   "id": "1d330ed2-4669-4121-9f46-6994ce9e8c03",
   "metadata": {},
   "outputs": [
    {
     "data": {
      "text/html": [
       "<div>\n",
       "<style scoped>\n",
       "    .dataframe tbody tr th:only-of-type {\n",
       "        vertical-align: middle;\n",
       "    }\n",
       "\n",
       "    .dataframe tbody tr th {\n",
       "        vertical-align: top;\n",
       "    }\n",
       "\n",
       "    .dataframe thead th {\n",
       "        text-align: right;\n",
       "    }\n",
       "</style>\n",
       "<table border=\"1\" class=\"dataframe\">\n",
       "  <thead>\n",
       "    <tr style=\"text-align: right;\">\n",
       "      <th></th>\n",
       "      <th></th>\n",
       "      <th>A</th>\n",
       "      <th>C</th>\n",
       "    </tr>\n",
       "  </thead>\n",
       "  <tbody>\n",
       "    <tr>\n",
       "      <th rowspan=\"3\" valign=\"top\">G1</th>\n",
       "      <th>1</th>\n",
       "      <td>-0.262776</td>\n",
       "      <td>1.656729</td>\n",
       "    </tr>\n",
       "    <tr>\n",
       "      <th>2</th>\n",
       "      <td>0.323697</td>\n",
       "      <td>0.490110</td>\n",
       "    </tr>\n",
       "    <tr>\n",
       "      <th>3</th>\n",
       "      <td>-0.701421</td>\n",
       "      <td>0.349989</td>\n",
       "    </tr>\n",
       "    <tr>\n",
       "      <th rowspan=\"3\" valign=\"top\">G2</th>\n",
       "      <th>1</th>\n",
       "      <td>-1.714396</td>\n",
       "      <td>0.042254</td>\n",
       "    </tr>\n",
       "    <tr>\n",
       "      <th>2</th>\n",
       "      <td>0.147024</td>\n",
       "      <td>0.664219</td>\n",
       "    </tr>\n",
       "    <tr>\n",
       "      <th>3</th>\n",
       "      <td>-0.085082</td>\n",
       "      <td>0.896328</td>\n",
       "    </tr>\n",
       "  </tbody>\n",
       "</table>\n",
       "</div>"
      ],
      "text/plain": [
       "             A         C\n",
       "G1 1 -0.262776  1.656729\n",
       "   2  0.323697  0.490110\n",
       "   3 -0.701421  0.349989\n",
       "G2 1 -1.714396  0.042254\n",
       "   2  0.147024  0.664219\n",
       "   3 -0.085082  0.896328"
      ]
     },
     "execution_count": 21,
     "metadata": {},
     "output_type": "execute_result"
    }
   ],
   "source": [
    "# Reading 'A' and 'C' columns\n",
    "\n",
    "df[['A','C']]"
   ]
  },
  {
   "cell_type": "code",
   "execution_count": 22,
   "id": "7d45b7ab-227c-4e45-a537-852680eb4afa",
   "metadata": {},
   "outputs": [
    {
     "data": {
      "text/html": [
       "<div>\n",
       "<style scoped>\n",
       "    .dataframe tbody tr th:only-of-type {\n",
       "        vertical-align: middle;\n",
       "    }\n",
       "\n",
       "    .dataframe tbody tr th {\n",
       "        vertical-align: top;\n",
       "    }\n",
       "\n",
       "    .dataframe thead th {\n",
       "        text-align: right;\n",
       "    }\n",
       "</style>\n",
       "<table border=\"1\" class=\"dataframe\">\n",
       "  <thead>\n",
       "    <tr style=\"text-align: right;\">\n",
       "      <th></th>\n",
       "      <th>A</th>\n",
       "      <th>B</th>\n",
       "      <th>C</th>\n",
       "    </tr>\n",
       "  </thead>\n",
       "  <tbody>\n",
       "    <tr>\n",
       "      <th>1</th>\n",
       "      <td>-0.262776</td>\n",
       "      <td>0.093377</td>\n",
       "      <td>1.656729</td>\n",
       "    </tr>\n",
       "    <tr>\n",
       "      <th>2</th>\n",
       "      <td>0.323697</td>\n",
       "      <td>0.183879</td>\n",
       "      <td>0.490110</td>\n",
       "    </tr>\n",
       "    <tr>\n",
       "      <th>3</th>\n",
       "      <td>-0.701421</td>\n",
       "      <td>-0.164712</td>\n",
       "      <td>0.349989</td>\n",
       "    </tr>\n",
       "  </tbody>\n",
       "</table>\n",
       "</div>"
      ],
      "text/plain": [
       "          A         B         C\n",
       "1 -0.262776  0.093377  1.656729\n",
       "2  0.323697  0.183879  0.490110\n",
       "3 -0.701421 -0.164712  0.349989"
      ]
     },
     "execution_count": 22,
     "metadata": {},
     "output_type": "execute_result"
    }
   ],
   "source": [
    "# Reading G1 Records\n",
    "\n",
    "df.loc['G1']"
   ]
  },
  {
   "cell_type": "code",
   "execution_count": 23,
   "id": "84609fcb-7ee9-4e2c-9db4-8752115b9c23",
   "metadata": {},
   "outputs": [
    {
     "data": {
      "text/html": [
       "<div>\n",
       "<style scoped>\n",
       "    .dataframe tbody tr th:only-of-type {\n",
       "        vertical-align: middle;\n",
       "    }\n",
       "\n",
       "    .dataframe tbody tr th {\n",
       "        vertical-align: top;\n",
       "    }\n",
       "\n",
       "    .dataframe thead th {\n",
       "        text-align: right;\n",
       "    }\n",
       "</style>\n",
       "<table border=\"1\" class=\"dataframe\">\n",
       "  <thead>\n",
       "    <tr style=\"text-align: right;\">\n",
       "      <th></th>\n",
       "      <th>A</th>\n",
       "      <th>B</th>\n",
       "      <th>C</th>\n",
       "    </tr>\n",
       "  </thead>\n",
       "  <tbody>\n",
       "    <tr>\n",
       "      <th>1</th>\n",
       "      <td>-1.714396</td>\n",
       "      <td>0.797822</td>\n",
       "      <td>0.042254</td>\n",
       "    </tr>\n",
       "    <tr>\n",
       "      <th>2</th>\n",
       "      <td>0.147024</td>\n",
       "      <td>1.121407</td>\n",
       "      <td>0.664219</td>\n",
       "    </tr>\n",
       "    <tr>\n",
       "      <th>3</th>\n",
       "      <td>-0.085082</td>\n",
       "      <td>1.237569</td>\n",
       "      <td>0.896328</td>\n",
       "    </tr>\n",
       "  </tbody>\n",
       "</table>\n",
       "</div>"
      ],
      "text/plain": [
       "          A         B         C\n",
       "1 -1.714396  0.797822  0.042254\n",
       "2  0.147024  1.121407  0.664219\n",
       "3 -0.085082  1.237569  0.896328"
      ]
     },
     "execution_count": 23,
     "metadata": {},
     "output_type": "execute_result"
    }
   ],
   "source": [
    "# Reading G2 Records\n",
    "\n",
    "df.loc['G2']"
   ]
  },
  {
   "cell_type": "code",
   "execution_count": 29,
   "id": "5ceb52e6-4317-450e-a419-98359a1c67c4",
   "metadata": {},
   "outputs": [
    {
     "data": {
      "text/plain": [
       "A    0.147024\n",
       "B    1.121407\n",
       "C    0.664219\n",
       "Name: 2, dtype: float64"
      ]
     },
     "execution_count": 29,
     "metadata": {},
     "output_type": "execute_result"
    }
   ],
   "source": [
    "# Reading Group - G2 and Row 2 Records\n",
    "\n",
    "df.loc['G2'].loc[2]"
   ]
  },
  {
   "cell_type": "code",
   "execution_count": 35,
   "id": "dc0bb261-bfef-4c80-b2c6-b121435b5257",
   "metadata": {},
   "outputs": [
    {
     "data": {
      "text/plain": [
       "np.float64(1.1214071928284455)"
      ]
     },
     "execution_count": 35,
     "metadata": {},
     "output_type": "execute_result"
    }
   ],
   "source": [
    "# Reding Group - G2 and Row 2 and col - B value\n",
    "\n",
    "df.loc['G2'].loc[2]['B']"
   ]
  },
  {
   "cell_type": "markdown",
   "id": "5aabbf66-af46-4a6d-b62a-922a952e8f4d",
   "metadata": {},
   "source": [
    "### Index Names"
   ]
  },
  {
   "cell_type": "code",
   "execution_count": 36,
   "id": "73b5ccca-36e8-4e33-9059-6be7853acea3",
   "metadata": {},
   "outputs": [
    {
     "data": {
      "text/plain": [
       "FrozenList([None, None])"
      ]
     },
     "execution_count": 36,
     "metadata": {},
     "output_type": "execute_result"
    }
   ],
   "source": [
    "df.index.names"
   ]
  },
  {
   "cell_type": "markdown",
   "id": "54163a5b-b96e-44b4-af37-47dd8e9c04d8",
   "metadata": {},
   "source": [
    "####  Note:  None because we have not assigned any, by default they are None."
   ]
  },
  {
   "cell_type": "markdown",
   "id": "87216d5a-53d5-4144-9e02-b103bf9c30b5",
   "metadata": {},
   "source": [
    "## Assigning names to index"
   ]
  },
  {
   "cell_type": "code",
   "execution_count": 39,
   "id": "92a40186-1960-4797-85b0-6967951eeee6",
   "metadata": {},
   "outputs": [],
   "source": [
    "df.index.names = ['Groups','Group Numbers']"
   ]
  },
  {
   "cell_type": "code",
   "execution_count": 40,
   "id": "7b8a4808-6ba7-476b-ba2f-d5f8ce4efe15",
   "metadata": {},
   "outputs": [
    {
     "data": {
      "text/html": [
       "<div>\n",
       "<style scoped>\n",
       "    .dataframe tbody tr th:only-of-type {\n",
       "        vertical-align: middle;\n",
       "    }\n",
       "\n",
       "    .dataframe tbody tr th {\n",
       "        vertical-align: top;\n",
       "    }\n",
       "\n",
       "    .dataframe thead th {\n",
       "        text-align: right;\n",
       "    }\n",
       "</style>\n",
       "<table border=\"1\" class=\"dataframe\">\n",
       "  <thead>\n",
       "    <tr style=\"text-align: right;\">\n",
       "      <th></th>\n",
       "      <th></th>\n",
       "      <th>A</th>\n",
       "      <th>B</th>\n",
       "      <th>C</th>\n",
       "    </tr>\n",
       "    <tr>\n",
       "      <th>Groups</th>\n",
       "      <th>Group Numbers</th>\n",
       "      <th></th>\n",
       "      <th></th>\n",
       "      <th></th>\n",
       "    </tr>\n",
       "  </thead>\n",
       "  <tbody>\n",
       "    <tr>\n",
       "      <th rowspan=\"3\" valign=\"top\">G1</th>\n",
       "      <th>1</th>\n",
       "      <td>-0.262776</td>\n",
       "      <td>0.093377</td>\n",
       "      <td>1.656729</td>\n",
       "    </tr>\n",
       "    <tr>\n",
       "      <th>2</th>\n",
       "      <td>0.323697</td>\n",
       "      <td>0.183879</td>\n",
       "      <td>0.490110</td>\n",
       "    </tr>\n",
       "    <tr>\n",
       "      <th>3</th>\n",
       "      <td>-0.701421</td>\n",
       "      <td>-0.164712</td>\n",
       "      <td>0.349989</td>\n",
       "    </tr>\n",
       "    <tr>\n",
       "      <th rowspan=\"3\" valign=\"top\">G2</th>\n",
       "      <th>1</th>\n",
       "      <td>-1.714396</td>\n",
       "      <td>0.797822</td>\n",
       "      <td>0.042254</td>\n",
       "    </tr>\n",
       "    <tr>\n",
       "      <th>2</th>\n",
       "      <td>0.147024</td>\n",
       "      <td>1.121407</td>\n",
       "      <td>0.664219</td>\n",
       "    </tr>\n",
       "    <tr>\n",
       "      <th>3</th>\n",
       "      <td>-0.085082</td>\n",
       "      <td>1.237569</td>\n",
       "      <td>0.896328</td>\n",
       "    </tr>\n",
       "  </tbody>\n",
       "</table>\n",
       "</div>"
      ],
      "text/plain": [
       "                             A         B         C\n",
       "Groups Group Numbers                              \n",
       "G1     1             -0.262776  0.093377  1.656729\n",
       "       2              0.323697  0.183879  0.490110\n",
       "       3             -0.701421 -0.164712  0.349989\n",
       "G2     1             -1.714396  0.797822  0.042254\n",
       "       2              0.147024  1.121407  0.664219\n",
       "       3             -0.085082  1.237569  0.896328"
      ]
     },
     "execution_count": 40,
     "metadata": {},
     "output_type": "execute_result"
    }
   ],
   "source": [
    "df"
   ]
  },
  {
   "cell_type": "code",
   "execution_count": 41,
   "id": "71a35614-7397-44e1-afb7-2e93a993d0a5",
   "metadata": {},
   "outputs": [
    {
     "data": {
      "text/plain": [
       "FrozenList(['Groups', 'Group Numbers'])"
      ]
     },
     "execution_count": 41,
     "metadata": {},
     "output_type": "execute_result"
    }
   ],
   "source": [
    "df.index.names"
   ]
  },
  {
   "cell_type": "markdown",
   "id": "5efeb496-5bd7-4eeb-bde5-72b5959f0205",
   "metadata": {},
   "source": [
    "### What is df.xs() in pandas?\n",
    "\n",
    "xs stands for “cross-section”.\n",
    "\n",
    "* It is a method used to select data at a particular level of a MultiIndex (hierarchical index) or by label.\n",
    "\n",
    "* Mainly useful for multi-level indexed DataFrames but works with normal indices too.\n",
    "\n",
    "#### Syntax: df.xs(key, axis=0, level=None, drop_level=True)\n",
    "\n",
    "* key — label of the row (or column) to select\n",
    "\n",
    "* axis — 0 for rows (default), 1 for columns\n",
    "\n",
    "* level — If the index is MultiIndex, specify which level to use\n",
    "\n",
    "* drop_level — whether to drop the level from the result (default True)"
   ]
  },
  {
   "cell_type": "code",
   "execution_count": 42,
   "id": "383a358e-3988-4e79-b86b-57ef70bfda01",
   "metadata": {},
   "outputs": [
    {
     "data": {
      "text/html": [
       "<div>\n",
       "<style scoped>\n",
       "    .dataframe tbody tr th:only-of-type {\n",
       "        vertical-align: middle;\n",
       "    }\n",
       "\n",
       "    .dataframe tbody tr th {\n",
       "        vertical-align: top;\n",
       "    }\n",
       "\n",
       "    .dataframe thead th {\n",
       "        text-align: right;\n",
       "    }\n",
       "</style>\n",
       "<table border=\"1\" class=\"dataframe\">\n",
       "  <thead>\n",
       "    <tr style=\"text-align: right;\">\n",
       "      <th></th>\n",
       "      <th></th>\n",
       "      <th>A</th>\n",
       "      <th>B</th>\n",
       "      <th>C</th>\n",
       "    </tr>\n",
       "    <tr>\n",
       "      <th>Groups</th>\n",
       "      <th>Group Numbers</th>\n",
       "      <th></th>\n",
       "      <th></th>\n",
       "      <th></th>\n",
       "    </tr>\n",
       "  </thead>\n",
       "  <tbody>\n",
       "    <tr>\n",
       "      <th rowspan=\"3\" valign=\"top\">G1</th>\n",
       "      <th>1</th>\n",
       "      <td>-0.262776</td>\n",
       "      <td>0.093377</td>\n",
       "      <td>1.656729</td>\n",
       "    </tr>\n",
       "    <tr>\n",
       "      <th>2</th>\n",
       "      <td>0.323697</td>\n",
       "      <td>0.183879</td>\n",
       "      <td>0.490110</td>\n",
       "    </tr>\n",
       "    <tr>\n",
       "      <th>3</th>\n",
       "      <td>-0.701421</td>\n",
       "      <td>-0.164712</td>\n",
       "      <td>0.349989</td>\n",
       "    </tr>\n",
       "    <tr>\n",
       "      <th rowspan=\"3\" valign=\"top\">G2</th>\n",
       "      <th>1</th>\n",
       "      <td>-1.714396</td>\n",
       "      <td>0.797822</td>\n",
       "      <td>0.042254</td>\n",
       "    </tr>\n",
       "    <tr>\n",
       "      <th>2</th>\n",
       "      <td>0.147024</td>\n",
       "      <td>1.121407</td>\n",
       "      <td>0.664219</td>\n",
       "    </tr>\n",
       "    <tr>\n",
       "      <th>3</th>\n",
       "      <td>-0.085082</td>\n",
       "      <td>1.237569</td>\n",
       "      <td>0.896328</td>\n",
       "    </tr>\n",
       "  </tbody>\n",
       "</table>\n",
       "</div>"
      ],
      "text/plain": [
       "                             A         B         C\n",
       "Groups Group Numbers                              \n",
       "G1     1             -0.262776  0.093377  1.656729\n",
       "       2              0.323697  0.183879  0.490110\n",
       "       3             -0.701421 -0.164712  0.349989\n",
       "G2     1             -1.714396  0.797822  0.042254\n",
       "       2              0.147024  1.121407  0.664219\n",
       "       3             -0.085082  1.237569  0.896328"
      ]
     },
     "execution_count": 42,
     "metadata": {},
     "output_type": "execute_result"
    }
   ],
   "source": [
    "df"
   ]
  },
  {
   "cell_type": "code",
   "execution_count": 44,
   "id": "55ecfe76-f968-4e6a-bf1c-e02b1a95a97a",
   "metadata": {},
   "outputs": [
    {
     "data": {
      "text/html": [
       "<div>\n",
       "<style scoped>\n",
       "    .dataframe tbody tr th:only-of-type {\n",
       "        vertical-align: middle;\n",
       "    }\n",
       "\n",
       "    .dataframe tbody tr th {\n",
       "        vertical-align: top;\n",
       "    }\n",
       "\n",
       "    .dataframe thead th {\n",
       "        text-align: right;\n",
       "    }\n",
       "</style>\n",
       "<table border=\"1\" class=\"dataframe\">\n",
       "  <thead>\n",
       "    <tr style=\"text-align: right;\">\n",
       "      <th></th>\n",
       "      <th>A</th>\n",
       "      <th>B</th>\n",
       "      <th>C</th>\n",
       "    </tr>\n",
       "    <tr>\n",
       "      <th>Groups</th>\n",
       "      <th></th>\n",
       "      <th></th>\n",
       "      <th></th>\n",
       "    </tr>\n",
       "  </thead>\n",
       "  <tbody>\n",
       "    <tr>\n",
       "      <th>G1</th>\n",
       "      <td>-0.262776</td>\n",
       "      <td>0.093377</td>\n",
       "      <td>1.656729</td>\n",
       "    </tr>\n",
       "    <tr>\n",
       "      <th>G2</th>\n",
       "      <td>-1.714396</td>\n",
       "      <td>0.797822</td>\n",
       "      <td>0.042254</td>\n",
       "    </tr>\n",
       "  </tbody>\n",
       "</table>\n",
       "</div>"
      ],
      "text/plain": [
       "               A         B         C\n",
       "Groups                              \n",
       "G1     -0.262776  0.093377  1.656729\n",
       "G2     -1.714396  0.797822  0.042254"
      ]
     },
     "execution_count": 44,
     "metadata": {},
     "output_type": "execute_result"
    }
   ],
   "source": [
    "# If i want to print Group Number 1 vaues from both G1 and G2 Groups.\n",
    "\n",
    "# This is easy to do with 'xs' function.\n",
    "\n",
    "df.xs(1,level='Group Numbers')"
   ]
  },
  {
   "cell_type": "code",
   "execution_count": 46,
   "id": "81c56511-254d-43ff-9475-c12b81406f30",
   "metadata": {},
   "outputs": [
    {
     "data": {
      "text/html": [
       "<div>\n",
       "<style scoped>\n",
       "    .dataframe tbody tr th:only-of-type {\n",
       "        vertical-align: middle;\n",
       "    }\n",
       "\n",
       "    .dataframe tbody tr th {\n",
       "        vertical-align: top;\n",
       "    }\n",
       "\n",
       "    .dataframe thead th {\n",
       "        text-align: right;\n",
       "    }\n",
       "</style>\n",
       "<table border=\"1\" class=\"dataframe\">\n",
       "  <thead>\n",
       "    <tr style=\"text-align: right;\">\n",
       "      <th></th>\n",
       "      <th>A</th>\n",
       "      <th>B</th>\n",
       "      <th>C</th>\n",
       "    </tr>\n",
       "    <tr>\n",
       "      <th>Groups</th>\n",
       "      <th></th>\n",
       "      <th></th>\n",
       "      <th></th>\n",
       "    </tr>\n",
       "  </thead>\n",
       "  <tbody>\n",
       "    <tr>\n",
       "      <th>G1</th>\n",
       "      <td>-0.701421</td>\n",
       "      <td>-0.164712</td>\n",
       "      <td>0.349989</td>\n",
       "    </tr>\n",
       "    <tr>\n",
       "      <th>G2</th>\n",
       "      <td>-0.085082</td>\n",
       "      <td>1.237569</td>\n",
       "      <td>0.896328</td>\n",
       "    </tr>\n",
       "  </tbody>\n",
       "</table>\n",
       "</div>"
      ],
      "text/plain": [
       "               A         B         C\n",
       "Groups                              \n",
       "G1     -0.701421 -0.164712  0.349989\n",
       "G2     -0.085082  1.237569  0.896328"
      ]
     },
     "execution_count": 46,
     "metadata": {},
     "output_type": "execute_result"
    }
   ],
   "source": [
    "# If i want to print Group Number 3 vaues from both G1 and G2 Groups.\n",
    "\n",
    "# This is easy to do with 'xs' function.\n",
    "\n",
    "df.xs(3, level='Group Numbers')"
   ]
  },
  {
   "cell_type": "code",
   "execution_count": 47,
   "id": "921694ac-20c9-4b0e-9104-e53f01ee8613",
   "metadata": {},
   "outputs": [
    {
     "data": {
      "text/plain": [
       "Groups\n",
       "G1   -0.164712\n",
       "G2    1.237569\n",
       "Name: B, dtype: float64"
      ]
     },
     "execution_count": 47,
     "metadata": {},
     "output_type": "execute_result"
    }
   ],
   "source": [
    "# If i want to print Group Number 3 and G1 and G2 Groups and Column 'B' values\n",
    "\n",
    "# This is easy to do with 'xs' function.\n",
    "\n",
    "df.xs(3, level='Group Numbers')['B']"
   ]
  },
  {
   "cell_type": "code",
   "execution_count": 51,
   "id": "a89593f5-8734-40f3-9ccc-e58f6b2b5231",
   "metadata": {},
   "outputs": [
    {
     "data": {
      "text/plain": [
       "np.float64(1.2375692880920348)"
      ]
     },
     "execution_count": 51,
     "metadata": {},
     "output_type": "execute_result"
    }
   ],
   "source": [
    "# To Print 1 value\n",
    "\n",
    "df.xs(3, level='Group Numbers')['B'].loc['G2']"
   ]
  },
  {
   "cell_type": "code",
   "execution_count": null,
   "id": "a06e6255-9c2b-435c-9365-d9d97efb4d0b",
   "metadata": {},
   "outputs": [],
   "source": []
  }
 ],
 "metadata": {
  "kernelspec": {
   "display_name": "Python 3 (ipykernel)",
   "language": "python",
   "name": "python3"
  },
  "language_info": {
   "codemirror_mode": {
    "name": "ipython",
    "version": 3
   },
   "file_extension": ".py",
   "mimetype": "text/x-python",
   "name": "python",
   "nbconvert_exporter": "python",
   "pygments_lexer": "ipython3",
   "version": "3.12.6"
  }
 },
 "nbformat": 4,
 "nbformat_minor": 5
}
